{
  "nbformat": 4,
  "nbformat_minor": 0,
  "metadata": {
    "colab": {
      "provenance": [],
      "mount_file_id": "1kylAAs8_7CLHnYMQBMn67fNt-7iiWjVZ",
      "authorship_tag": "ABX9TyO7jcItWW3rRGNL8kae42Uq",
      "include_colab_link": true
    },
    "kernelspec": {
      "name": "python3",
      "display_name": "Python 3"
    },
    "language_info": {
      "name": "python"
    }
  },
  "cells": [
    {
      "cell_type": "markdown",
      "metadata": {
        "id": "view-in-github",
        "colab_type": "text"
      },
      "source": [
        "<a href=\"https://colab.research.google.com/github/czeacach/fashion_designers/blob/main/wdt_spatialisation_lieux_d'%C3%A9tudes_production.ipynb\" target=\"_parent\"><img src=\"https://colab.research.google.com/assets/colab-badge.svg\" alt=\"Open In Colab\"/></a>"
      ]
    },
    {
      "cell_type": "markdown",
      "source": [
        "# Spatialisation des naissances: production des données"
      ],
      "metadata": {
        "id": "nU3TVbTvus70"
      }
    },
    {
      "cell_type": "code",
      "source": [
        "### Noter qu'il faudra avoir installé toutes les librairies nécessaires\n",
        "# dans l'environnement conda utilisé pour exécuter ce carnet\n",
        "import pandas as pd\n",
        "import geopandas as gpd\n",
        "#from shapely.geometry import LineString\n",
        "from geopandas.tools import sjoin\n",
        "#import networkx as nx\n",
        "import matplotlib.pyplot as plt\n",
        "import plotly.express as px\n",
        "import numpy as np\n",
        "#import seaborn as sns\n",
        "import json\n",
        "import IPython"
      ],
      "metadata": {
        "id": "4vHTf3uvuxTk"
      },
      "execution_count": null,
      "outputs": []
    },
    {
      "cell_type": "code",
      "source": [
        "!pip install geodatasets\n",
        "!pip install itables\n",
        "!pip install sparqlwrapper"
      ],
      "metadata": {
        "colab": {
          "base_uri": "https://localhost:8080/"
        },
        "id": "dQSAbT5cvGZL",
        "outputId": "87122907-a257-4932-a896-03b7cd9806e9"
      },
      "execution_count": null,
      "outputs": [
        {
          "output_type": "stream",
          "name": "stdout",
          "text": [
            "Requirement already satisfied: geodatasets in /usr/local/lib/python3.10/dist-packages (2023.12.0)\n",
            "Requirement already satisfied: pooch in /usr/local/lib/python3.10/dist-packages (from geodatasets) (1.8.1)\n",
            "Requirement already satisfied: platformdirs>=2.5.0 in /usr/local/lib/python3.10/dist-packages (from pooch->geodatasets) (4.2.2)\n",
            "Requirement already satisfied: packaging>=20.0 in /usr/local/lib/python3.10/dist-packages (from pooch->geodatasets) (24.0)\n",
            "Requirement already satisfied: requests>=2.19.0 in /usr/local/lib/python3.10/dist-packages (from pooch->geodatasets) (2.31.0)\n",
            "Requirement already satisfied: charset-normalizer<4,>=2 in /usr/local/lib/python3.10/dist-packages (from requests>=2.19.0->pooch->geodatasets) (3.3.2)\n",
            "Requirement already satisfied: idna<4,>=2.5 in /usr/local/lib/python3.10/dist-packages (from requests>=2.19.0->pooch->geodatasets) (3.7)\n",
            "Requirement already satisfied: urllib3<3,>=1.21.1 in /usr/local/lib/python3.10/dist-packages (from requests>=2.19.0->pooch->geodatasets) (2.0.7)\n",
            "Requirement already satisfied: certifi>=2017.4.17 in /usr/local/lib/python3.10/dist-packages (from requests>=2.19.0->pooch->geodatasets) (2024.2.2)\n",
            "Requirement already satisfied: itables in /usr/local/lib/python3.10/dist-packages (2.1.0)\n",
            "Requirement already satisfied: ipython in /usr/local/lib/python3.10/dist-packages (from itables) (7.34.0)\n",
            "Requirement already satisfied: numpy in /usr/local/lib/python3.10/dist-packages (from itables) (1.25.2)\n",
            "Requirement already satisfied: pandas in /usr/local/lib/python3.10/dist-packages (from itables) (2.0.3)\n",
            "Requirement already satisfied: setuptools>=18.5 in /usr/local/lib/python3.10/dist-packages (from ipython->itables) (67.7.2)\n",
            "Requirement already satisfied: jedi>=0.16 in /usr/local/lib/python3.10/dist-packages (from ipython->itables) (0.19.1)\n",
            "Requirement already satisfied: decorator in /usr/local/lib/python3.10/dist-packages (from ipython->itables) (4.4.2)\n",
            "Requirement already satisfied: pickleshare in /usr/local/lib/python3.10/dist-packages (from ipython->itables) (0.7.5)\n",
            "Requirement already satisfied: traitlets>=4.2 in /usr/local/lib/python3.10/dist-packages (from ipython->itables) (5.7.1)\n",
            "Requirement already satisfied: prompt-toolkit!=3.0.0,!=3.0.1,<3.1.0,>=2.0.0 in /usr/local/lib/python3.10/dist-packages (from ipython->itables) (3.0.45)\n",
            "Requirement already satisfied: pygments in /usr/local/lib/python3.10/dist-packages (from ipython->itables) (2.16.1)\n",
            "Requirement already satisfied: backcall in /usr/local/lib/python3.10/dist-packages (from ipython->itables) (0.2.0)\n",
            "Requirement already satisfied: matplotlib-inline in /usr/local/lib/python3.10/dist-packages (from ipython->itables) (0.1.7)\n",
            "Requirement already satisfied: pexpect>4.3 in /usr/local/lib/python3.10/dist-packages (from ipython->itables) (4.9.0)\n",
            "Requirement already satisfied: python-dateutil>=2.8.2 in /usr/local/lib/python3.10/dist-packages (from pandas->itables) (2.8.2)\n",
            "Requirement already satisfied: pytz>=2020.1 in /usr/local/lib/python3.10/dist-packages (from pandas->itables) (2023.4)\n",
            "Requirement already satisfied: tzdata>=2022.1 in /usr/local/lib/python3.10/dist-packages (from pandas->itables) (2024.1)\n",
            "Requirement already satisfied: parso<0.9.0,>=0.8.3 in /usr/local/lib/python3.10/dist-packages (from jedi>=0.16->ipython->itables) (0.8.4)\n",
            "Requirement already satisfied: ptyprocess>=0.5 in /usr/local/lib/python3.10/dist-packages (from pexpect>4.3->ipython->itables) (0.7.0)\n",
            "Requirement already satisfied: wcwidth in /usr/local/lib/python3.10/dist-packages (from prompt-toolkit!=3.0.0,!=3.0.1,<3.1.0,>=2.0.0->ipython->itables) (0.2.13)\n",
            "Requirement already satisfied: six>=1.5 in /usr/local/lib/python3.10/dist-packages (from python-dateutil>=2.8.2->pandas->itables) (1.16.0)\n",
            "Collecting sparqlwrapper\n",
            "  Downloading SPARQLWrapper-2.0.0-py3-none-any.whl (28 kB)\n",
            "Collecting rdflib>=6.1.1 (from sparqlwrapper)\n",
            "  Downloading rdflib-7.0.0-py3-none-any.whl (531 kB)\n",
            "\u001b[2K     \u001b[90m━━━━━━━━━━━━━━━━━━━━━━━━━━━━━━━━━━━━━━━━\u001b[0m \u001b[32m531.9/531.9 kB\u001b[0m \u001b[31m5.4 MB/s\u001b[0m eta \u001b[36m0:00:00\u001b[0m\n",
            "\u001b[?25hCollecting isodate<0.7.0,>=0.6.0 (from rdflib>=6.1.1->sparqlwrapper)\n",
            "  Downloading isodate-0.6.1-py2.py3-none-any.whl (41 kB)\n",
            "\u001b[2K     \u001b[90m━━━━━━━━━━━━━━━━━━━━━━━━━━━━━━━━━━━━━━━━\u001b[0m \u001b[32m41.7/41.7 kB\u001b[0m \u001b[31m5.0 MB/s\u001b[0m eta \u001b[36m0:00:00\u001b[0m\n",
            "\u001b[?25hRequirement already satisfied: pyparsing<4,>=2.1.0 in /usr/local/lib/python3.10/dist-packages (from rdflib>=6.1.1->sparqlwrapper) (3.1.2)\n",
            "Requirement already satisfied: six in /usr/local/lib/python3.10/dist-packages (from isodate<0.7.0,>=0.6.0->rdflib>=6.1.1->sparqlwrapper) (1.16.0)\n",
            "Installing collected packages: isodate, rdflib, sparqlwrapper\n",
            "Successfully installed isodate-0.6.1 rdflib-7.0.0 sparqlwrapper-2.0.0\n"
          ]
        }
      ]
    },
    {
      "cell_type": "code",
      "source": [
        "from geodatasets import get_path\n",
        "from itables import init_notebook_mode, show"
      ],
      "metadata": {
        "id": "W5zk_pDmvJMQ"
      },
      "execution_count": null,
      "outputs": []
    },
    {
      "cell_type": "code",
      "source": [
        "### Librairies déjà installées avec Python\n",
        "import pprint\n",
        "import sqlite3 as sql\n",
        "import sys\n",
        "from importlib import reload"
      ],
      "metadata": {
        "id": "FK6FEsFBvYUI"
      },
      "execution_count": null,
      "outputs": []
    },
    {
      "cell_type": "code",
      "source": [
        "import sys\n",
        "sys.path.append('/content/drive/MyDrive/Colab_notebooks')\n",
        "import sparql_functions as spqf"
      ],
      "metadata": {
        "id": "CMB9JsH8vcui"
      },
      "execution_count": null,
      "outputs": []
    },
    {
      "cell_type": "markdown",
      "source": [
        "## Production des données"
      ],
      "metadata": {
        "id": "ykAamjuRwZ2X"
      }
    },
    {
      "cell_type": "code",
      "source": [
        "## define SPARQL enpoint\n",
        "endpoint = \"https://query.wikidata.org/sparql\""
      ],
      "metadata": {
        "id": "XtS-tPBRv4ij"
      },
      "execution_count": null,
      "outputs": []
    },
    {
      "cell_type": "code",
      "source": [
        "query = \"\"\"\n",
        "PREFIX owl: <http://www.w3.org/2002/07/owl#>\n",
        "PREFIX wd: <http://www.wikidata.org/entity/>\n",
        "PREFIX wdt: <http://www.wikidata.org/prop/direct/>\n",
        "\n",
        "SELECT DISTINCT ?item ?itemLabel (?year AS ?birthYear) ?organisation ?organisationLabel ?coordinates ?country ?countryLabel\n",
        "WHERE {\n",
        "  {\n",
        "    { ?item wdt:P106 wd:Q3501317 } # occupation is fashion designer.\n",
        "    UNION\n",
        "    { ?item wdt:P101 wd:Q29583 } # field of work is fashion design\n",
        "    ?item wdt:P31 wd:Q5; # Any instance of a human.\n",
        "          wdt:P569 ?birthDate.\n",
        "          ?item wdt:P69 ?organisation. # insitution d'études\n",
        "     OPTIONAL { ?organisation wdt:P625 ?coordinates}\n",
        "                  {?organisation wdt:P17 ?country}\n",
        "\n",
        "    BIND(REPLACE(str(?birthDate), \"(.*)([0-9]{4})(.*)\", \"$2\") AS ?year)\n",
        "    FILTER(xsd:integer(?year) > 1800 && xsd:integer(?year) < 2001)\n",
        "\n",
        "    SERVICE wikibase:label { bd:serviceParam wikibase:language \"en\" }\n",
        "   }\n",
        "  }\n",
        "  ORDER BY ?year ?itemLabel\n",
        "\n",
        "  \"\"\""
      ],
      "metadata": {
        "id": "QijUSUdK0jhf"
      },
      "execution_count": null,
      "outputs": []
    },
    {
      "cell_type": "code",
      "source": [
        "### Executer la requête avec les fonctions de la librairie locale\n",
        "qr = spqf.get_json_sparql_result(endpoint,query)"
      ],
      "metadata": {
        "id": "fNms1SFH0xnm"
      },
      "execution_count": null,
      "outputs": []
    },
    {
      "cell_type": "code",
      "source": [
        "r = [l for l in spqf.sparql_result_to_list(qr)]\n",
        "print(len(r))\n",
        "r[:3]"
      ],
      "metadata": {
        "colab": {
          "base_uri": "https://localhost:8080/"
        },
        "id": "5Y_dt8hg04ka",
        "outputId": "6eefba9e-2dfb-4063-ac30-8dfda9c6b5d6"
      },
      "execution_count": null,
      "outputs": [
        {
          "output_type": "stream",
          "name": "stdout",
          "text": [
            "2119\n"
          ]
        },
        {
          "output_type": "execute_result",
          "data": {
            "text/plain": [
              "[['http://www.wikidata.org/entity/Q1255520',\n",
              "  'Alfred Isidore Römer',\n",
              "  '1832',\n",
              "  'http://www.wikidata.org/entity/Q414052',\n",
              "  'Academy of Fine Arts, Munich',\n",
              "  'Point(11.580312391 48.15319592)',\n",
              "  'http://www.wikidata.org/entity/Q183',\n",
              "  'Germany'],\n",
              " ['http://www.wikidata.org/entity/Q1255520',\n",
              "  'Alfred Isidore Römer',\n",
              "  '1832',\n",
              "  'http://www.wikidata.org/entity/Q658192',\n",
              "  'Vilnius University',\n",
              "  'Point(25.287222222 54.6825)',\n",
              "  'http://www.wikidata.org/entity/Q37',\n",
              "  'Lithuania'],\n",
              " ['http://www.wikidata.org/entity/Q3177164',\n",
              "  'Jenny Sacerdote',\n",
              "  '1868',\n",
              "  'http://www.wikidata.org/entity/Q481762',\n",
              "  'École normale supérieure de jeunes filles',\n",
              "  'Point(2.33131 48.8224)',\n",
              "  'http://www.wikidata.org/entity/Q142',\n",
              "  'France']]"
            ]
          },
          "metadata": {},
          "execution_count": 12
        }
      ]
    },
    {
      "cell_type": "code",
      "source": [
        "### Exporter les résultats en csv et créer une nouvelle table wdt_place_study pour y importer les données"
      ],
      "metadata": {
        "id": "m7k0PBXX1M2x"
      },
      "execution_count": null,
      "outputs": []
    },
    {
      "cell_type": "markdown",
      "source": [
        "### Nettoyage des données\n",
        "\n",
        "Requêtes SQL et corrections effectuées directement dans SQlite, à l'aide des requêtes suivants:\n",
        "\n",
        "**Requête pour calculer le nombre d'établissement sans nom**\n",
        "```\n",
        "SELECT COUNT(*) AS organisationLabe_without_name\n",
        "FROM wdt_place_study\n",
        "WHERE organisationLabel LIKE 'Q%' AND\n",
        "      LENGTH(organisationLabel) > 1 AND\n",
        "      organisationLabel GLOB 'Q[0-9]*';\n",
        "```\n",
        "14\n",
        "\n",
        "J'ai rempli lorsque possible les noms des organisations qui n'en possédaient pas en effectuant quelques recherches\n",
        "\n",
        "**Requête pour calculer le nombre d'établissement sans coordonnées géographiques**\n",
        "\n",
        "```\n",
        "SELECT COUNT(*) AS number_of_individuals_without_coordinates\n",
        "FROM wdt_place_study\n",
        "WHERE coordinates IS NULL OR coordinates = '';\n",
        "```\n",
        "137\n",
        "\n",
        "\n",
        "Parmi les 137 lignes  indiquer les coordonnées des lieux qui avaient jusqu’à 3 individus comme effectif, j'ai sélectionné les établissements avec les effectifs les plus importants et j'ai indiqué les coordonnées manquantes pour ceux dont l'effectif était égal ou supérieur à 3.\n",
        "\n",
        "\n",
        "\n",
        "**Requête pour sélectionner et classer par ordre descendant les établissements sans coordonnées géographiques**\n",
        "\n",
        "```\n",
        "SELECT organisationLabel, COUNT(*) AS count\n",
        "FROM wdt_place_study\n",
        "WHERE coordinates IS NULL OR coordinates = ''\n",
        "GROUP BY organisationLabel\n",
        "ORDER BY count DESC;\n",
        "\n",
        "```\n",
        "\n",
        "\n",
        "\n",
        "\n",
        "\n",
        "\n"
      ],
      "metadata": {
        "id": "QoMRdZOTRnro"
      }
    }
  ]
}