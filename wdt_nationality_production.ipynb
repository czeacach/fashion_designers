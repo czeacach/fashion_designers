{
  "nbformat": 4,
  "nbformat_minor": 0,
  "metadata": {
    "colab": {
      "provenance": [],
      "mount_file_id": "1men6kJqi4hpSu8FYEz5HMK_EJ8R6sZnV",
      "authorship_tag": "ABX9TyN5tVpCf/WwHcQqvOZ8PZvT",
      "include_colab_link": true
    },
    "kernelspec": {
      "name": "python3",
      "display_name": "Python 3"
    },
    "language_info": {
      "name": "python"
    }
  },
  "cells": [
    {
      "cell_type": "markdown",
      "metadata": {
        "id": "view-in-github",
        "colab_type": "text"
      },
      "source": [
        "<a href=\"https://colab.research.google.com/github/czeacach/fashion_designers/blob/main/wdt_nationality_production.ipynb\" target=\"_parent\"><img src=\"https://colab.research.google.com/assets/colab-badge.svg\" alt=\"Open In Colab\"/></a>"
      ]
    },
    {
      "cell_type": "markdown",
      "source": [
        "#Production des nationalités de l'effectif renseigné dans Wikidata\n",
        "Dans ce carnet est proposée la méthode de production des nationalités de la population Wikidata retenue."
      ],
      "metadata": {
        "id": "mkIdhRo2lbvc"
      }
    },
    {
      "cell_type": "code",
      "source": [
        "!pip install sparqlwrapper"
      ],
      "metadata": {
        "colab": {
          "base_uri": "https://localhost:8080/"
        },
        "id": "SWW-40Cnlqg8",
        "outputId": "7aabfa3d-47a1-4c13-a53a-549f51478922"
      },
      "execution_count": null,
      "outputs": [
        {
          "output_type": "stream",
          "name": "stdout",
          "text": [
            "Collecting sparqlwrapper\n",
            "  Downloading SPARQLWrapper-2.0.0-py3-none-any.whl (28 kB)\n",
            "Collecting rdflib>=6.1.1 (from sparqlwrapper)\n",
            "  Downloading rdflib-7.0.0-py3-none-any.whl (531 kB)\n",
            "\u001b[2K     \u001b[90m━━━━━━━━━━━━━━━━━━━━━━━━━━━━━━━━━━━━━━━━\u001b[0m \u001b[32m531.9/531.9 kB\u001b[0m \u001b[31m3.4 MB/s\u001b[0m eta \u001b[36m0:00:00\u001b[0m\n",
            "\u001b[?25hCollecting isodate<0.7.0,>=0.6.0 (from rdflib>=6.1.1->sparqlwrapper)\n",
            "  Downloading isodate-0.6.1-py2.py3-none-any.whl (41 kB)\n",
            "\u001b[2K     \u001b[90m━━━━━━━━━━━━━━━━━━━━━━━━━━━━━━━━━━━━━━━━\u001b[0m \u001b[32m41.7/41.7 kB\u001b[0m \u001b[31m3.4 MB/s\u001b[0m eta \u001b[36m0:00:00\u001b[0m\n",
            "\u001b[?25hRequirement already satisfied: pyparsing<4,>=2.1.0 in /usr/local/lib/python3.10/dist-packages (from rdflib>=6.1.1->sparqlwrapper) (3.1.2)\n",
            "Requirement already satisfied: six in /usr/local/lib/python3.10/dist-packages (from isodate<0.7.0,>=0.6.0->rdflib>=6.1.1->sparqlwrapper) (1.16.0)\n",
            "Installing collected packages: isodate, rdflib, sparqlwrapper\n",
            "Successfully installed isodate-0.6.1 rdflib-7.0.0 sparqlwrapper-2.0.0\n"
          ]
        }
      ]
    },
    {
      "cell_type": "code",
      "source": [
        "import pandas as pd\n",
        "import matplotlib.pyplot as plt\n",
        "import numpy as np"
      ],
      "metadata": {
        "id": "2EMJG44fl9E2"
      },
      "execution_count": null,
      "outputs": []
    },
    {
      "cell_type": "code",
      "source": [
        "from SPARQLWrapper import SPARQLWrapper, SPARQLWrapper2, JSON, TURTLE, XML, RDFXML"
      ],
      "metadata": {
        "id": "gA3ISM7wlnGN"
      },
      "execution_count": null,
      "outputs": []
    },
    {
      "cell_type": "code",
      "source": [
        "!pip install itables"
      ],
      "metadata": {
        "colab": {
          "base_uri": "https://localhost:8080/"
        },
        "id": "wWxW3dr-mDsT",
        "outputId": "e536e362-f23c-473b-c4d2-3169e3b285f7"
      },
      "execution_count": null,
      "outputs": [
        {
          "output_type": "stream",
          "name": "stdout",
          "text": [
            "Collecting itables\n",
            "  Downloading itables-2.0.1-py3-none-any.whl (221 kB)\n",
            "\u001b[2K     \u001b[90m━━━━━━━━━━━━━━━━━━━━━━━━━━━━━━━━━━━━━━━━\u001b[0m \u001b[32m221.7/221.7 kB\u001b[0m \u001b[31m2.3 MB/s\u001b[0m eta \u001b[36m0:00:00\u001b[0m\n",
            "\u001b[?25hRequirement already satisfied: ipython in /usr/local/lib/python3.10/dist-packages (from itables) (7.34.0)\n",
            "Requirement already satisfied: numpy in /usr/local/lib/python3.10/dist-packages (from itables) (1.25.2)\n",
            "Requirement already satisfied: pandas in /usr/local/lib/python3.10/dist-packages (from itables) (2.0.3)\n",
            "Requirement already satisfied: setuptools>=18.5 in /usr/local/lib/python3.10/dist-packages (from ipython->itables) (67.7.2)\n",
            "Collecting jedi>=0.16 (from ipython->itables)\n",
            "  Downloading jedi-0.19.1-py2.py3-none-any.whl (1.6 MB)\n",
            "\u001b[2K     \u001b[90m━━━━━━━━━━━━━━━━━━━━━━━━━━━━━━━━━━━━━━━━\u001b[0m \u001b[32m1.6/1.6 MB\u001b[0m \u001b[31m16.9 MB/s\u001b[0m eta \u001b[36m0:00:00\u001b[0m\n",
            "\u001b[?25hRequirement already satisfied: decorator in /usr/local/lib/python3.10/dist-packages (from ipython->itables) (4.4.2)\n",
            "Requirement already satisfied: pickleshare in /usr/local/lib/python3.10/dist-packages (from ipython->itables) (0.7.5)\n",
            "Requirement already satisfied: traitlets>=4.2 in /usr/local/lib/python3.10/dist-packages (from ipython->itables) (5.7.1)\n",
            "Requirement already satisfied: prompt-toolkit!=3.0.0,!=3.0.1,<3.1.0,>=2.0.0 in /usr/local/lib/python3.10/dist-packages (from ipython->itables) (3.0.43)\n",
            "Requirement already satisfied: pygments in /usr/local/lib/python3.10/dist-packages (from ipython->itables) (2.16.1)\n",
            "Requirement already satisfied: backcall in /usr/local/lib/python3.10/dist-packages (from ipython->itables) (0.2.0)\n",
            "Requirement already satisfied: matplotlib-inline in /usr/local/lib/python3.10/dist-packages (from ipython->itables) (0.1.7)\n",
            "Requirement already satisfied: pexpect>4.3 in /usr/local/lib/python3.10/dist-packages (from ipython->itables) (4.9.0)\n",
            "Requirement already satisfied: python-dateutil>=2.8.2 in /usr/local/lib/python3.10/dist-packages (from pandas->itables) (2.8.2)\n",
            "Requirement already satisfied: pytz>=2020.1 in /usr/local/lib/python3.10/dist-packages (from pandas->itables) (2023.4)\n",
            "Requirement already satisfied: tzdata>=2022.1 in /usr/local/lib/python3.10/dist-packages (from pandas->itables) (2024.1)\n",
            "Requirement already satisfied: parso<0.9.0,>=0.8.3 in /usr/local/lib/python3.10/dist-packages (from jedi>=0.16->ipython->itables) (0.8.4)\n",
            "Requirement already satisfied: ptyprocess>=0.5 in /usr/local/lib/python3.10/dist-packages (from pexpect>4.3->ipython->itables) (0.7.0)\n",
            "Requirement already satisfied: wcwidth in /usr/local/lib/python3.10/dist-packages (from prompt-toolkit!=3.0.0,!=3.0.1,<3.1.0,>=2.0.0->ipython->itables) (0.2.13)\n",
            "Requirement already satisfied: six>=1.5 in /usr/local/lib/python3.10/dist-packages (from python-dateutil>=2.8.2->pandas->itables) (1.16.0)\n",
            "Installing collected packages: jedi, itables\n",
            "Successfully installed itables-2.0.1 jedi-0.19.1\n"
          ]
        }
      ]
    },
    {
      "cell_type": "code",
      "source": [
        "### https://mwouts.github.io/itables/quick_start.html\n",
        "\n",
        "from itables import init_notebook_mode, show\n",
        "\n",
        "init_notebook_mode(all_interactive=False)"
      ],
      "metadata": {
        "colab": {
          "base_uri": "https://localhost:8080/",
          "height": 17
        },
        "id": "dUhMVO9qmAgV",
        "outputId": "65ca4d51-9ffa-432f-ce2c-3c82f78564ea"
      },
      "execution_count": null,
      "outputs": [
        {
          "output_type": "display_data",
          "data": {
            "text/plain": [
              "<IPython.core.display.HTML object>"
            ],
            "text/html": [
              "<script>\n",
              "    if (document.body.dataset.jpThemeLight == \"false\" || // Jupyter Lab\n",
              "        document.body.dataset.vscodeThemeKind == \"vscode-dark\" || // VS Code\n",
              "        document.documentElement.dataset.theme == \"dark\" || // Jupyter Book\n",
              "        window.matchMedia('(prefers-color-scheme: dark)').matches) {\n",
              "        document.documentElement.classList.add('dark');\n",
              "    }\n",
              "    else {\n",
              "        document.documentElement.classList.remove('dark');\n",
              "    }\n",
              "</script>\n"
            ]
          },
          "metadata": {}
        }
      ]
    },
    {
      "cell_type": "code",
      "source": [
        "### Librairies déjà installées avec Python\n",
        "import pprint\n",
        "import csv\n",
        "import sys\n",
        "\n",
        "import sqlite3 as sql\n",
        "\n",
        "import time\n",
        "import datetime\n",
        "from dateutil import parser\n",
        "\n",
        "from importlib import reload\n",
        "from shutil import copyfile"
      ],
      "metadata": {
        "id": "aT94MG6JmJY7"
      },
      "execution_count": null,
      "outputs": []
    },
    {
      "cell_type": "code",
      "source": [
        "import sys\n",
        "sys.path.append('/content/drive/MyDrive/Colab_notebooks')\n",
        "import sparql_functions as spqf"
      ],
      "metadata": {
        "id": "rt0qiJYJmMez"
      },
      "execution_count": null,
      "outputs": []
    },
    {
      "cell_type": "markdown",
      "source": [
        "#Préparer les données"
      ],
      "metadata": {
        "id": "T2lGfQ_ymVim"
      }
    },
    {
      "cell_type": "markdown",
      "source": [
        "## SPARQL Query qui récupère les données\n",
        "On exécute la requête grâce à une fonction de la librairie locale qui réalise la mise en forme"
      ],
      "metadata": {
        "id": "wSzUEAATmZMq"
      }
    },
    {
      "cell_type": "code",
      "source": [
        "## define SPARQL enpoint\n",
        "endpoint = \"https://query.wikidata.org/sparql\""
      ],
      "metadata": {
        "id": "92Bj3sGsmbRd"
      },
      "execution_count": null,
      "outputs": []
    },
    {
      "cell_type": "code",
      "source": [
        "query = \"\"\"\n",
        "SELECT DISTINCT ?item ?country ?countryLabel\n",
        "WHERE {\n",
        "    {?item wdt:P106 wd:Q3501317} # occupation is fashion designer.\n",
        "        UNION\n",
        "        {?item wdt:P101 wd:Q29583} # field of work is fashion design\n",
        "?item wdt:P31 wd:Q5; # Any instance of a human.\n",
        "        wdt:P569 ?birthDate.\n",
        " ?item wdt:P27 ?country\n",
        "    BIND(REPLACE(str(?birthDate), \"(.*)([0-9]{4})(.*)\", \"$2\") AS ?year)\n",
        "    FILTER(xsd:integer(?year) > 1800 && xsd:integer(?year) < 2001)\n",
        "SERVICE wikibase:label { bd:serviceParam wikibase:language \"en\" }\n",
        "        }\n",
        "     ORDER BY ?year\n",
        "     \"\"\""
      ],
      "metadata": {
        "id": "s-eXF8Fhmh9s"
      },
      "execution_count": null,
      "outputs": []
    },
    {
      "cell_type": "code",
      "source": [
        "### Executer la requête avec les fonctions de la librairie locale\n",
        "qr = spqf.get_json_sparql_result(endpoint,query)"
      ],
      "metadata": {
        "id": "t_0ko8Iymqst"
      },
      "execution_count": null,
      "outputs": []
    },
    {
      "cell_type": "code",
      "source": [
        "r = [l for l in spqf.sparql_result_to_list(qr)]\n",
        "print(len(r))\n",
        "r[:3]"
      ],
      "metadata": {
        "colab": {
          "base_uri": "https://localhost:8080/"
        },
        "id": "1mwB5yE3m-yc",
        "outputId": "8ed63fb6-7c42-474d-874a-5aaf053b5cef"
      },
      "execution_count": null,
      "outputs": [
        {
          "output_type": "stream",
          "name": "stdout",
          "text": [
            "3173\n"
          ]
        },
        {
          "output_type": "execute_result",
          "data": {
            "text/plain": [
              "[['http://www.wikidata.org/entity/Q3524312',\n",
              "  'http://www.wikidata.org/entity/Q142',\n",
              "  'France'],\n",
              " ['http://www.wikidata.org/entity/Q62128099',\n",
              "  'http://www.wikidata.org/entity/Q62633',\n",
              "  'Grand Principality of Finland'],\n",
              " ['http://www.wikidata.org/entity/Q4721481',\n",
              "  'http://www.wikidata.org/entity/Q142',\n",
              "  'France']]"
            ]
          },
          "metadata": {},
          "execution_count": 12
        }
      ]
    },
    {
      "cell_type": "code",
      "source": [
        "### Créer un DataFrame à partir du résultat\n",
        "df_r = pd.DataFrame(r)\n",
        "df_r.columns = ['personUri', 'nationalityUri', 'nationalityLabel']\n",
        "df_r.head()"
      ],
      "metadata": {
        "colab": {
          "base_uri": "https://localhost:8080/",
          "height": 206
        },
        "id": "qTR0aX_9nHLL",
        "outputId": "1d0c51d9-794e-4785-a696-3d4b4a0581bc"
      },
      "execution_count": null,
      "outputs": [
        {
          "output_type": "execute_result",
          "data": {
            "text/plain": [
              "                                  personUri  \\\n",
              "0   http://www.wikidata.org/entity/Q3524312   \n",
              "1  http://www.wikidata.org/entity/Q62128099   \n",
              "2   http://www.wikidata.org/entity/Q4721481   \n",
              "3   http://www.wikidata.org/entity/Q4962968   \n",
              "4   http://www.wikidata.org/entity/Q5363058   \n",
              "\n",
              "                          nationalityUri               nationalityLabel  \n",
              "0    http://www.wikidata.org/entity/Q142                         France  \n",
              "1  http://www.wikidata.org/entity/Q62633  Grand Principality of Finland  \n",
              "2    http://www.wikidata.org/entity/Q142                         France  \n",
              "3     http://www.wikidata.org/entity/Q34                         Sweden  \n",
              "4     http://www.wikidata.org/entity/Q30       United States of America  "
            ],
            "text/html": [
              "\n",
              "  <div id=\"df-deef8ef9-9fab-42b2-b924-f7b5b018b7bc\" class=\"colab-df-container\">\n",
              "    <div>\n",
              "<style scoped>\n",
              "    .dataframe tbody tr th:only-of-type {\n",
              "        vertical-align: middle;\n",
              "    }\n",
              "\n",
              "    .dataframe tbody tr th {\n",
              "        vertical-align: top;\n",
              "    }\n",
              "\n",
              "    .dataframe thead th {\n",
              "        text-align: right;\n",
              "    }\n",
              "</style>\n",
              "<table border=\"1\" class=\"dataframe\">\n",
              "  <thead>\n",
              "    <tr style=\"text-align: right;\">\n",
              "      <th></th>\n",
              "      <th>personUri</th>\n",
              "      <th>nationalityUri</th>\n",
              "      <th>nationalityLabel</th>\n",
              "    </tr>\n",
              "  </thead>\n",
              "  <tbody>\n",
              "    <tr>\n",
              "      <th>0</th>\n",
              "      <td>http://www.wikidata.org/entity/Q3524312</td>\n",
              "      <td>http://www.wikidata.org/entity/Q142</td>\n",
              "      <td>France</td>\n",
              "    </tr>\n",
              "    <tr>\n",
              "      <th>1</th>\n",
              "      <td>http://www.wikidata.org/entity/Q62128099</td>\n",
              "      <td>http://www.wikidata.org/entity/Q62633</td>\n",
              "      <td>Grand Principality of Finland</td>\n",
              "    </tr>\n",
              "    <tr>\n",
              "      <th>2</th>\n",
              "      <td>http://www.wikidata.org/entity/Q4721481</td>\n",
              "      <td>http://www.wikidata.org/entity/Q142</td>\n",
              "      <td>France</td>\n",
              "    </tr>\n",
              "    <tr>\n",
              "      <th>3</th>\n",
              "      <td>http://www.wikidata.org/entity/Q4962968</td>\n",
              "      <td>http://www.wikidata.org/entity/Q34</td>\n",
              "      <td>Sweden</td>\n",
              "    </tr>\n",
              "    <tr>\n",
              "      <th>4</th>\n",
              "      <td>http://www.wikidata.org/entity/Q5363058</td>\n",
              "      <td>http://www.wikidata.org/entity/Q30</td>\n",
              "      <td>United States of America</td>\n",
              "    </tr>\n",
              "  </tbody>\n",
              "</table>\n",
              "</div>\n",
              "    <div class=\"colab-df-buttons\">\n",
              "\n",
              "  <div class=\"colab-df-container\">\n",
              "    <button class=\"colab-df-convert\" onclick=\"convertToInteractive('df-deef8ef9-9fab-42b2-b924-f7b5b018b7bc')\"\n",
              "            title=\"Convert this dataframe to an interactive table.\"\n",
              "            style=\"display:none;\">\n",
              "\n",
              "  <svg xmlns=\"http://www.w3.org/2000/svg\" height=\"24px\" viewBox=\"0 -960 960 960\">\n",
              "    <path d=\"M120-120v-720h720v720H120Zm60-500h600v-160H180v160Zm220 220h160v-160H400v160Zm0 220h160v-160H400v160ZM180-400h160v-160H180v160Zm440 0h160v-160H620v160ZM180-180h160v-160H180v160Zm440 0h160v-160H620v160Z\"/>\n",
              "  </svg>\n",
              "    </button>\n",
              "\n",
              "  <style>\n",
              "    .colab-df-container {\n",
              "      display:flex;\n",
              "      gap: 12px;\n",
              "    }\n",
              "\n",
              "    .colab-df-convert {\n",
              "      background-color: #E8F0FE;\n",
              "      border: none;\n",
              "      border-radius: 50%;\n",
              "      cursor: pointer;\n",
              "      display: none;\n",
              "      fill: #1967D2;\n",
              "      height: 32px;\n",
              "      padding: 0 0 0 0;\n",
              "      width: 32px;\n",
              "    }\n",
              "\n",
              "    .colab-df-convert:hover {\n",
              "      background-color: #E2EBFA;\n",
              "      box-shadow: 0px 1px 2px rgba(60, 64, 67, 0.3), 0px 1px 3px 1px rgba(60, 64, 67, 0.15);\n",
              "      fill: #174EA6;\n",
              "    }\n",
              "\n",
              "    .colab-df-buttons div {\n",
              "      margin-bottom: 4px;\n",
              "    }\n",
              "\n",
              "    [theme=dark] .colab-df-convert {\n",
              "      background-color: #3B4455;\n",
              "      fill: #D2E3FC;\n",
              "    }\n",
              "\n",
              "    [theme=dark] .colab-df-convert:hover {\n",
              "      background-color: #434B5C;\n",
              "      box-shadow: 0px 1px 3px 1px rgba(0, 0, 0, 0.15);\n",
              "      filter: drop-shadow(0px 1px 2px rgba(0, 0, 0, 0.3));\n",
              "      fill: #FFFFFF;\n",
              "    }\n",
              "  </style>\n",
              "\n",
              "    <script>\n",
              "      const buttonEl =\n",
              "        document.querySelector('#df-deef8ef9-9fab-42b2-b924-f7b5b018b7bc button.colab-df-convert');\n",
              "      buttonEl.style.display =\n",
              "        google.colab.kernel.accessAllowed ? 'block' : 'none';\n",
              "\n",
              "      async function convertToInteractive(key) {\n",
              "        const element = document.querySelector('#df-deef8ef9-9fab-42b2-b924-f7b5b018b7bc');\n",
              "        const dataTable =\n",
              "          await google.colab.kernel.invokeFunction('convertToInteractive',\n",
              "                                                    [key], {});\n",
              "        if (!dataTable) return;\n",
              "\n",
              "        const docLinkHtml = 'Like what you see? Visit the ' +\n",
              "          '<a target=\"_blank\" href=https://colab.research.google.com/notebooks/data_table.ipynb>data table notebook</a>'\n",
              "          + ' to learn more about interactive tables.';\n",
              "        element.innerHTML = '';\n",
              "        dataTable['output_type'] = 'display_data';\n",
              "        await google.colab.output.renderOutput(dataTable, element);\n",
              "        const docLink = document.createElement('div');\n",
              "        docLink.innerHTML = docLinkHtml;\n",
              "        element.appendChild(docLink);\n",
              "      }\n",
              "    </script>\n",
              "  </div>\n",
              "\n",
              "\n",
              "<div id=\"df-bac411b2-9024-43f5-9318-630d66972b2a\">\n",
              "  <button class=\"colab-df-quickchart\" onclick=\"quickchart('df-bac411b2-9024-43f5-9318-630d66972b2a')\"\n",
              "            title=\"Suggest charts\"\n",
              "            style=\"display:none;\">\n",
              "\n",
              "<svg xmlns=\"http://www.w3.org/2000/svg\" height=\"24px\"viewBox=\"0 0 24 24\"\n",
              "     width=\"24px\">\n",
              "    <g>\n",
              "        <path d=\"M19 3H5c-1.1 0-2 .9-2 2v14c0 1.1.9 2 2 2h14c1.1 0 2-.9 2-2V5c0-1.1-.9-2-2-2zM9 17H7v-7h2v7zm4 0h-2V7h2v10zm4 0h-2v-4h2v4z\"/>\n",
              "    </g>\n",
              "</svg>\n",
              "  </button>\n",
              "\n",
              "<style>\n",
              "  .colab-df-quickchart {\n",
              "      --bg-color: #E8F0FE;\n",
              "      --fill-color: #1967D2;\n",
              "      --hover-bg-color: #E2EBFA;\n",
              "      --hover-fill-color: #174EA6;\n",
              "      --disabled-fill-color: #AAA;\n",
              "      --disabled-bg-color: #DDD;\n",
              "  }\n",
              "\n",
              "  [theme=dark] .colab-df-quickchart {\n",
              "      --bg-color: #3B4455;\n",
              "      --fill-color: #D2E3FC;\n",
              "      --hover-bg-color: #434B5C;\n",
              "      --hover-fill-color: #FFFFFF;\n",
              "      --disabled-bg-color: #3B4455;\n",
              "      --disabled-fill-color: #666;\n",
              "  }\n",
              "\n",
              "  .colab-df-quickchart {\n",
              "    background-color: var(--bg-color);\n",
              "    border: none;\n",
              "    border-radius: 50%;\n",
              "    cursor: pointer;\n",
              "    display: none;\n",
              "    fill: var(--fill-color);\n",
              "    height: 32px;\n",
              "    padding: 0;\n",
              "    width: 32px;\n",
              "  }\n",
              "\n",
              "  .colab-df-quickchart:hover {\n",
              "    background-color: var(--hover-bg-color);\n",
              "    box-shadow: 0 1px 2px rgba(60, 64, 67, 0.3), 0 1px 3px 1px rgba(60, 64, 67, 0.15);\n",
              "    fill: var(--button-hover-fill-color);\n",
              "  }\n",
              "\n",
              "  .colab-df-quickchart-complete:disabled,\n",
              "  .colab-df-quickchart-complete:disabled:hover {\n",
              "    background-color: var(--disabled-bg-color);\n",
              "    fill: var(--disabled-fill-color);\n",
              "    box-shadow: none;\n",
              "  }\n",
              "\n",
              "  .colab-df-spinner {\n",
              "    border: 2px solid var(--fill-color);\n",
              "    border-color: transparent;\n",
              "    border-bottom-color: var(--fill-color);\n",
              "    animation:\n",
              "      spin 1s steps(1) infinite;\n",
              "  }\n",
              "\n",
              "  @keyframes spin {\n",
              "    0% {\n",
              "      border-color: transparent;\n",
              "      border-bottom-color: var(--fill-color);\n",
              "      border-left-color: var(--fill-color);\n",
              "    }\n",
              "    20% {\n",
              "      border-color: transparent;\n",
              "      border-left-color: var(--fill-color);\n",
              "      border-top-color: var(--fill-color);\n",
              "    }\n",
              "    30% {\n",
              "      border-color: transparent;\n",
              "      border-left-color: var(--fill-color);\n",
              "      border-top-color: var(--fill-color);\n",
              "      border-right-color: var(--fill-color);\n",
              "    }\n",
              "    40% {\n",
              "      border-color: transparent;\n",
              "      border-right-color: var(--fill-color);\n",
              "      border-top-color: var(--fill-color);\n",
              "    }\n",
              "    60% {\n",
              "      border-color: transparent;\n",
              "      border-right-color: var(--fill-color);\n",
              "    }\n",
              "    80% {\n",
              "      border-color: transparent;\n",
              "      border-right-color: var(--fill-color);\n",
              "      border-bottom-color: var(--fill-color);\n",
              "    }\n",
              "    90% {\n",
              "      border-color: transparent;\n",
              "      border-bottom-color: var(--fill-color);\n",
              "    }\n",
              "  }\n",
              "</style>\n",
              "\n",
              "  <script>\n",
              "    async function quickchart(key) {\n",
              "      const quickchartButtonEl =\n",
              "        document.querySelector('#' + key + ' button');\n",
              "      quickchartButtonEl.disabled = true;  // To prevent multiple clicks.\n",
              "      quickchartButtonEl.classList.add('colab-df-spinner');\n",
              "      try {\n",
              "        const charts = await google.colab.kernel.invokeFunction(\n",
              "            'suggestCharts', [key], {});\n",
              "      } catch (error) {\n",
              "        console.error('Error during call to suggestCharts:', error);\n",
              "      }\n",
              "      quickchartButtonEl.classList.remove('colab-df-spinner');\n",
              "      quickchartButtonEl.classList.add('colab-df-quickchart-complete');\n",
              "    }\n",
              "    (() => {\n",
              "      let quickchartButtonEl =\n",
              "        document.querySelector('#df-bac411b2-9024-43f5-9318-630d66972b2a button');\n",
              "      quickchartButtonEl.style.display =\n",
              "        google.colab.kernel.accessAllowed ? 'block' : 'none';\n",
              "    })();\n",
              "  </script>\n",
              "</div>\n",
              "    </div>\n",
              "  </div>\n"
            ],
            "application/vnd.google.colaboratory.intrinsic+json": {
              "type": "dataframe",
              "variable_name": "df_r",
              "summary": "{\n  \"name\": \"df_r\",\n  \"rows\": 3173,\n  \"fields\": [\n    {\n      \"column\": \"personUri\",\n      \"properties\": {\n        \"dtype\": \"string\",\n        \"num_unique_values\": 2880,\n        \"samples\": [\n          \"http://www.wikidata.org/entity/Q5734774\",\n          \"http://www.wikidata.org/entity/Q13561666\",\n          \"http://www.wikidata.org/entity/Q215546\"\n        ],\n        \"semantic_type\": \"\",\n        \"description\": \"\"\n      }\n    },\n    {\n      \"column\": \"nationalityUri\",\n      \"properties\": {\n        \"dtype\": \"category\",\n        \"num_unique_values\": 165,\n        \"samples\": [\n          \"http://www.wikidata.org/entity/Q878\",\n          \"http://www.wikidata.org/entity/Q766\",\n          \"http://www.wikidata.org/entity/Q6167019\"\n        ],\n        \"semantic_type\": \"\",\n        \"description\": \"\"\n      }\n    },\n    {\n      \"column\": \"nationalityLabel\",\n      \"properties\": {\n        \"dtype\": \"category\",\n        \"num_unique_values\": 165,\n        \"samples\": [\n          \"United Arab Emirates\",\n          \"Jamaica\",\n          \"Template:ARE\"\n        ],\n        \"semantic_type\": \"\",\n        \"description\": \"\"\n      }\n    }\n  ]\n}"
            }
          },
          "metadata": {},
          "execution_count": 13
        }
      ]
    },
    {
      "cell_type": "code",
      "source": [
        "df_r.info()"
      ],
      "metadata": {
        "colab": {
          "base_uri": "https://localhost:8080/"
        },
        "id": "B3987PDenTXD",
        "outputId": "310092b9-77fc-45be-e138-8d9751b3bcd1"
      },
      "execution_count": null,
      "outputs": [
        {
          "output_type": "stream",
          "name": "stdout",
          "text": [
            "<class 'pandas.core.frame.DataFrame'>\n",
            "RangeIndex: 3173 entries, 0 to 3172\n",
            "Data columns (total 3 columns):\n",
            " #   Column            Non-Null Count  Dtype \n",
            "---  ------            --------------  ----- \n",
            " 0   personUri         3173 non-null   object\n",
            " 1   nationalityUri    3173 non-null   object\n",
            " 2   nationalityLabel  3173 non-null   object\n",
            "dtypes: object(3)\n",
            "memory usage: 74.5+ KB\n"
          ]
        }
      ]
    },
    {
      "cell_type": "markdown",
      "source": [
        "## Créer une nouvelle table dans la base de données SQLite\n",
        "On va stocker dans cette table le résultat de la requête SPARQL préalablement transformé en DataFrame"
      ],
      "metadata": {
        "id": "LArK3KkInX3t"
      }
    },
    {
      "cell_type": "code",
      "source": [
        "### Se connecter à la base de données dans laquelle on va insérer\n",
        "# le résultat de la requête SPARQL\n",
        "#chemin d'acces de la base de données directement connectée à l'ordinateur via Google Drive Desktop\n",
        "'/content/drive/MyDrive/dossier de travail/fashion_designers_data_analysis.db'\n",
        "cn = sql.connect('/content/drive/MyDrive/dossier de travail/fashion_designers_data_analysis.db')\n",
        "cn"
      ],
      "metadata": {
        "colab": {
          "base_uri": "https://localhost:8080/"
        },
        "id": "dh1CyAs_nafd",
        "outputId": "447f6001-6927-4e32-d81c-098c4f39d85c"
      },
      "execution_count": null,
      "outputs": [
        {
          "output_type": "execute_result",
          "data": {
            "text/plain": [
              "<sqlite3.Connection at 0x7a45f0b1f340>"
            ]
          },
          "metadata": {},
          "execution_count": 15
        }
      ]
    },
    {
      "cell_type": "code",
      "source": [
        "### Créer une nouvelle table contenant le DataFrame\n",
        "# Si on tente de la recréer, alors qu'elle existe déjà,\n",
        "# un message d'erreur est renvoyé\n",
        "try:\n",
        "    l = df_r.to_sql(name='wdt_person_nationality', con=cn, if_exists='fail')\n",
        "except Exception as e:\n",
        "    print('Erreur: ',  e)"
      ],
      "metadata": {
        "colab": {
          "base_uri": "https://localhost:8080/"
        },
        "id": "7xqZWHR2lNKP",
        "outputId": "e0172650-96c7-480a-e3e8-a273d40bb6c1"
      },
      "execution_count": null,
      "outputs": [
        {
          "output_type": "stream",
          "name": "stdout",
          "text": [
            "Erreur:  Table 'wdt_person_nationality' already exists.\n"
          ]
        }
      ]
    },
    {
      "cell_type": "code",
      "source": [
        "### Vérifier que les données ont été importées correctement\n",
        "cur = cn.cursor()\n",
        "l = cur.execute(\"SELECT * FROM wdt_person_nationality limit 3\").fetchall()\n",
        "### On a mis le résultat de la requête SQL\n",
        "# dans une liste 'l' qu'on affiche avec une boucle 'for'\n",
        "# dans le cadre d'une 'list comprehension'\n",
        "a = [print(e) for e in l]"
      ],
      "metadata": {
        "colab": {
          "base_uri": "https://localhost:8080/"
        },
        "id": "wE-fu0BDntkz",
        "outputId": "0f358df0-b38a-493e-b2ec-f8cefa01c4fd"
      },
      "execution_count": null,
      "outputs": [
        {
          "output_type": "stream",
          "name": "stdout",
          "text": [
            "(0, 'http://www.wikidata.org/entity/Q3524312', 'http://www.wikidata.org/entity/Q142', 'France')\n",
            "(1, 'http://www.wikidata.org/entity/Q62128099', 'http://www.wikidata.org/entity/Q62633', 'Grand Principality of Finland')\n",
            "(2, 'http://www.wikidata.org/entity/Q4721481', 'http://www.wikidata.org/entity/Q142', 'France')\n"
          ]
        }
      ]
    },
    {
      "cell_type": "code",
      "source": [
        "### Vérifier que les données ont été importées correctement\n",
        "cur = cn.cursor()\n",
        "l = cur.execute(\"SELECT COUNT(*) FROM wdt_person_nationality \").fetchone()\n",
        "print('Nombre de lignes de la table:', l[0])"
      ],
      "metadata": {
        "colab": {
          "base_uri": "https://localhost:8080/"
        },
        "id": "J-tTtxqSnzTk",
        "outputId": "df937b8a-1be8-4e53-bdc0-ca55079be6d5"
      },
      "execution_count": null,
      "outputs": [
        {
          "output_type": "stream",
          "name": "stdout",
          "text": [
            "Nombre de lignes de la table: 3165\n"
          ]
        }
      ]
    },
    {
      "cell_type": "markdown",
      "source": [
        "#Créer une table qui contient les nationalités"
      ],
      "metadata": {
        "id": "-g8bMCC0n836"
      }
    },
    {
      "cell_type": "code",
      "source": [
        "q=\"\"\"\n",
        "-- noter que la fonction TRIM élimine les éventuels espaces en début ou fin de chaine de charactères\n",
        "-- la fonction LOWER met tout au minuscule\n",
        "SELECT TRIM(nationalityUri) as nationalityUri, LOWER(TRIM(nationalityLabel)) AS nationalityLabel, COUNT(*) as effectif\n",
        "FROM wdt_person_nationality\n",
        "GROUP BY TRIM(nationalityUri), LOWER(TRIM(nationalityLabel))\n",
        "ORDER BY effectif DESC\n",
        "\"\"\"\n",
        "cur = cn.cursor()\n",
        "r = cur.execute(q).fetchall()\n",
        "rdf = pd.DataFrame(r,columns=['uri', 'label', 'freq'])\n",
        "rdf.head()"
      ],
      "metadata": {
        "colab": {
          "base_uri": "https://localhost:8080/",
          "height": 206
        },
        "id": "JJqBo3WVn_-Z",
        "outputId": "824804fb-9ce1-4065-f1bb-c69d38ef5cae"
      },
      "execution_count": null,
      "outputs": [
        {
          "output_type": "execute_result",
          "data": {
            "text/plain": [
              "                                   uri                     label  freq\n",
              "0   http://www.wikidata.org/entity/Q30  united states of america   556\n",
              "1  http://www.wikidata.org/entity/Q145            united kingdom   235\n",
              "2  http://www.wikidata.org/entity/Q142                    france   213\n",
              "3   http://www.wikidata.org/entity/Q17                     japan   163\n",
              "4   http://www.wikidata.org/entity/Q38                     italy   150"
            ],
            "text/html": [
              "\n",
              "  <div id=\"df-1d88e5ad-8c53-484c-9d4a-09704627b5a0\" class=\"colab-df-container\">\n",
              "    <div>\n",
              "<style scoped>\n",
              "    .dataframe tbody tr th:only-of-type {\n",
              "        vertical-align: middle;\n",
              "    }\n",
              "\n",
              "    .dataframe tbody tr th {\n",
              "        vertical-align: top;\n",
              "    }\n",
              "\n",
              "    .dataframe thead th {\n",
              "        text-align: right;\n",
              "    }\n",
              "</style>\n",
              "<table border=\"1\" class=\"dataframe\">\n",
              "  <thead>\n",
              "    <tr style=\"text-align: right;\">\n",
              "      <th></th>\n",
              "      <th>uri</th>\n",
              "      <th>label</th>\n",
              "      <th>freq</th>\n",
              "    </tr>\n",
              "  </thead>\n",
              "  <tbody>\n",
              "    <tr>\n",
              "      <th>0</th>\n",
              "      <td>http://www.wikidata.org/entity/Q30</td>\n",
              "      <td>united states of america</td>\n",
              "      <td>556</td>\n",
              "    </tr>\n",
              "    <tr>\n",
              "      <th>1</th>\n",
              "      <td>http://www.wikidata.org/entity/Q145</td>\n",
              "      <td>united kingdom</td>\n",
              "      <td>235</td>\n",
              "    </tr>\n",
              "    <tr>\n",
              "      <th>2</th>\n",
              "      <td>http://www.wikidata.org/entity/Q142</td>\n",
              "      <td>france</td>\n",
              "      <td>213</td>\n",
              "    </tr>\n",
              "    <tr>\n",
              "      <th>3</th>\n",
              "      <td>http://www.wikidata.org/entity/Q17</td>\n",
              "      <td>japan</td>\n",
              "      <td>163</td>\n",
              "    </tr>\n",
              "    <tr>\n",
              "      <th>4</th>\n",
              "      <td>http://www.wikidata.org/entity/Q38</td>\n",
              "      <td>italy</td>\n",
              "      <td>150</td>\n",
              "    </tr>\n",
              "  </tbody>\n",
              "</table>\n",
              "</div>\n",
              "    <div class=\"colab-df-buttons\">\n",
              "\n",
              "  <div class=\"colab-df-container\">\n",
              "    <button class=\"colab-df-convert\" onclick=\"convertToInteractive('df-1d88e5ad-8c53-484c-9d4a-09704627b5a0')\"\n",
              "            title=\"Convert this dataframe to an interactive table.\"\n",
              "            style=\"display:none;\">\n",
              "\n",
              "  <svg xmlns=\"http://www.w3.org/2000/svg\" height=\"24px\" viewBox=\"0 -960 960 960\">\n",
              "    <path d=\"M120-120v-720h720v720H120Zm60-500h600v-160H180v160Zm220 220h160v-160H400v160Zm0 220h160v-160H400v160ZM180-400h160v-160H180v160Zm440 0h160v-160H620v160ZM180-180h160v-160H180v160Zm440 0h160v-160H620v160Z\"/>\n",
              "  </svg>\n",
              "    </button>\n",
              "\n",
              "  <style>\n",
              "    .colab-df-container {\n",
              "      display:flex;\n",
              "      gap: 12px;\n",
              "    }\n",
              "\n",
              "    .colab-df-convert {\n",
              "      background-color: #E8F0FE;\n",
              "      border: none;\n",
              "      border-radius: 50%;\n",
              "      cursor: pointer;\n",
              "      display: none;\n",
              "      fill: #1967D2;\n",
              "      height: 32px;\n",
              "      padding: 0 0 0 0;\n",
              "      width: 32px;\n",
              "    }\n",
              "\n",
              "    .colab-df-convert:hover {\n",
              "      background-color: #E2EBFA;\n",
              "      box-shadow: 0px 1px 2px rgba(60, 64, 67, 0.3), 0px 1px 3px 1px rgba(60, 64, 67, 0.15);\n",
              "      fill: #174EA6;\n",
              "    }\n",
              "\n",
              "    .colab-df-buttons div {\n",
              "      margin-bottom: 4px;\n",
              "    }\n",
              "\n",
              "    [theme=dark] .colab-df-convert {\n",
              "      background-color: #3B4455;\n",
              "      fill: #D2E3FC;\n",
              "    }\n",
              "\n",
              "    [theme=dark] .colab-df-convert:hover {\n",
              "      background-color: #434B5C;\n",
              "      box-shadow: 0px 1px 3px 1px rgba(0, 0, 0, 0.15);\n",
              "      filter: drop-shadow(0px 1px 2px rgba(0, 0, 0, 0.3));\n",
              "      fill: #FFFFFF;\n",
              "    }\n",
              "  </style>\n",
              "\n",
              "    <script>\n",
              "      const buttonEl =\n",
              "        document.querySelector('#df-1d88e5ad-8c53-484c-9d4a-09704627b5a0 button.colab-df-convert');\n",
              "      buttonEl.style.display =\n",
              "        google.colab.kernel.accessAllowed ? 'block' : 'none';\n",
              "\n",
              "      async function convertToInteractive(key) {\n",
              "        const element = document.querySelector('#df-1d88e5ad-8c53-484c-9d4a-09704627b5a0');\n",
              "        const dataTable =\n",
              "          await google.colab.kernel.invokeFunction('convertToInteractive',\n",
              "                                                    [key], {});\n",
              "        if (!dataTable) return;\n",
              "\n",
              "        const docLinkHtml = 'Like what you see? Visit the ' +\n",
              "          '<a target=\"_blank\" href=https://colab.research.google.com/notebooks/data_table.ipynb>data table notebook</a>'\n",
              "          + ' to learn more about interactive tables.';\n",
              "        element.innerHTML = '';\n",
              "        dataTable['output_type'] = 'display_data';\n",
              "        await google.colab.output.renderOutput(dataTable, element);\n",
              "        const docLink = document.createElement('div');\n",
              "        docLink.innerHTML = docLinkHtml;\n",
              "        element.appendChild(docLink);\n",
              "      }\n",
              "    </script>\n",
              "  </div>\n",
              "\n",
              "\n",
              "<div id=\"df-49770dba-0f37-4dfd-ba47-3ebf2b8ead2f\">\n",
              "  <button class=\"colab-df-quickchart\" onclick=\"quickchart('df-49770dba-0f37-4dfd-ba47-3ebf2b8ead2f')\"\n",
              "            title=\"Suggest charts\"\n",
              "            style=\"display:none;\">\n",
              "\n",
              "<svg xmlns=\"http://www.w3.org/2000/svg\" height=\"24px\"viewBox=\"0 0 24 24\"\n",
              "     width=\"24px\">\n",
              "    <g>\n",
              "        <path d=\"M19 3H5c-1.1 0-2 .9-2 2v14c0 1.1.9 2 2 2h14c1.1 0 2-.9 2-2V5c0-1.1-.9-2-2-2zM9 17H7v-7h2v7zm4 0h-2V7h2v10zm4 0h-2v-4h2v4z\"/>\n",
              "    </g>\n",
              "</svg>\n",
              "  </button>\n",
              "\n",
              "<style>\n",
              "  .colab-df-quickchart {\n",
              "      --bg-color: #E8F0FE;\n",
              "      --fill-color: #1967D2;\n",
              "      --hover-bg-color: #E2EBFA;\n",
              "      --hover-fill-color: #174EA6;\n",
              "      --disabled-fill-color: #AAA;\n",
              "      --disabled-bg-color: #DDD;\n",
              "  }\n",
              "\n",
              "  [theme=dark] .colab-df-quickchart {\n",
              "      --bg-color: #3B4455;\n",
              "      --fill-color: #D2E3FC;\n",
              "      --hover-bg-color: #434B5C;\n",
              "      --hover-fill-color: #FFFFFF;\n",
              "      --disabled-bg-color: #3B4455;\n",
              "      --disabled-fill-color: #666;\n",
              "  }\n",
              "\n",
              "  .colab-df-quickchart {\n",
              "    background-color: var(--bg-color);\n",
              "    border: none;\n",
              "    border-radius: 50%;\n",
              "    cursor: pointer;\n",
              "    display: none;\n",
              "    fill: var(--fill-color);\n",
              "    height: 32px;\n",
              "    padding: 0;\n",
              "    width: 32px;\n",
              "  }\n",
              "\n",
              "  .colab-df-quickchart:hover {\n",
              "    background-color: var(--hover-bg-color);\n",
              "    box-shadow: 0 1px 2px rgba(60, 64, 67, 0.3), 0 1px 3px 1px rgba(60, 64, 67, 0.15);\n",
              "    fill: var(--button-hover-fill-color);\n",
              "  }\n",
              "\n",
              "  .colab-df-quickchart-complete:disabled,\n",
              "  .colab-df-quickchart-complete:disabled:hover {\n",
              "    background-color: var(--disabled-bg-color);\n",
              "    fill: var(--disabled-fill-color);\n",
              "    box-shadow: none;\n",
              "  }\n",
              "\n",
              "  .colab-df-spinner {\n",
              "    border: 2px solid var(--fill-color);\n",
              "    border-color: transparent;\n",
              "    border-bottom-color: var(--fill-color);\n",
              "    animation:\n",
              "      spin 1s steps(1) infinite;\n",
              "  }\n",
              "\n",
              "  @keyframes spin {\n",
              "    0% {\n",
              "      border-color: transparent;\n",
              "      border-bottom-color: var(--fill-color);\n",
              "      border-left-color: var(--fill-color);\n",
              "    }\n",
              "    20% {\n",
              "      border-color: transparent;\n",
              "      border-left-color: var(--fill-color);\n",
              "      border-top-color: var(--fill-color);\n",
              "    }\n",
              "    30% {\n",
              "      border-color: transparent;\n",
              "      border-left-color: var(--fill-color);\n",
              "      border-top-color: var(--fill-color);\n",
              "      border-right-color: var(--fill-color);\n",
              "    }\n",
              "    40% {\n",
              "      border-color: transparent;\n",
              "      border-right-color: var(--fill-color);\n",
              "      border-top-color: var(--fill-color);\n",
              "    }\n",
              "    60% {\n",
              "      border-color: transparent;\n",
              "      border-right-color: var(--fill-color);\n",
              "    }\n",
              "    80% {\n",
              "      border-color: transparent;\n",
              "      border-right-color: var(--fill-color);\n",
              "      border-bottom-color: var(--fill-color);\n",
              "    }\n",
              "    90% {\n",
              "      border-color: transparent;\n",
              "      border-bottom-color: var(--fill-color);\n",
              "    }\n",
              "  }\n",
              "</style>\n",
              "\n",
              "  <script>\n",
              "    async function quickchart(key) {\n",
              "      const quickchartButtonEl =\n",
              "        document.querySelector('#' + key + ' button');\n",
              "      quickchartButtonEl.disabled = true;  // To prevent multiple clicks.\n",
              "      quickchartButtonEl.classList.add('colab-df-spinner');\n",
              "      try {\n",
              "        const charts = await google.colab.kernel.invokeFunction(\n",
              "            'suggestCharts', [key], {});\n",
              "      } catch (error) {\n",
              "        console.error('Error during call to suggestCharts:', error);\n",
              "      }\n",
              "      quickchartButtonEl.classList.remove('colab-df-spinner');\n",
              "      quickchartButtonEl.classList.add('colab-df-quickchart-complete');\n",
              "    }\n",
              "    (() => {\n",
              "      let quickchartButtonEl =\n",
              "        document.querySelector('#df-49770dba-0f37-4dfd-ba47-3ebf2b8ead2f button');\n",
              "      quickchartButtonEl.style.display =\n",
              "        google.colab.kernel.accessAllowed ? 'block' : 'none';\n",
              "    })();\n",
              "  </script>\n",
              "</div>\n",
              "    </div>\n",
              "  </div>\n"
            ],
            "application/vnd.google.colaboratory.intrinsic+json": {
              "type": "dataframe",
              "variable_name": "rdf",
              "summary": "{\n  \"name\": \"rdf\",\n  \"rows\": 164,\n  \"fields\": [\n    {\n      \"column\": \"uri\",\n      \"properties\": {\n        \"dtype\": \"string\",\n        \"num_unique_values\": 164,\n        \"samples\": [\n          \"http://www.wikidata.org/entity/Q242\",\n          \"http://www.wikidata.org/entity/Q1014\",\n          \"http://www.wikidata.org/entity/Q22890\"\n        ],\n        \"semantic_type\": \"\",\n        \"description\": \"\"\n      }\n    },\n    {\n      \"column\": \"label\",\n      \"properties\": {\n        \"dtype\": \"string\",\n        \"num_unique_values\": 164,\n        \"samples\": [\n          \"belize\",\n          \"liberia\",\n          \"ireland\"\n        ],\n        \"semantic_type\": \"\",\n        \"description\": \"\"\n      }\n    },\n    {\n      \"column\": \"freq\",\n      \"properties\": {\n        \"dtype\": \"number\",\n        \"std\": 54,\n        \"min\": 1,\n        \"max\": 556,\n        \"num_unique_values\": 43,\n        \"samples\": [\n          6,\n          24,\n          23\n        ],\n        \"semantic_type\": \"\",\n        \"description\": \"\"\n      }\n    }\n  ]\n}"
            }
          },
          "metadata": {},
          "execution_count": 19
        }
      ]
    },
    {
      "cell_type": "code",
      "source": [
        "rdf.info()"
      ],
      "metadata": {
        "colab": {
          "base_uri": "https://localhost:8080/"
        },
        "id": "D2FtU04NoWbq",
        "outputId": "80165ee3-bd1f-40dc-a036-228570a64a49"
      },
      "execution_count": null,
      "outputs": [
        {
          "output_type": "stream",
          "name": "stdout",
          "text": [
            "<class 'pandas.core.frame.DataFrame'>\n",
            "RangeIndex: 164 entries, 0 to 163\n",
            "Data columns (total 3 columns):\n",
            " #   Column  Non-Null Count  Dtype \n",
            "---  ------  --------------  ----- \n",
            " 0   uri     164 non-null    object\n",
            " 1   label   164 non-null    object\n",
            " 2   freq    164 non-null    int64 \n",
            "dtypes: int64(1), object(2)\n",
            "memory usage: 4.0+ KB\n"
          ]
        }
      ]
    },
    {
      "cell_type": "code",
      "source": [
        "#Creer une table Sqlite avec les colonnes dont on a besoin : index /nationalityUri / nationalityLabel"
      ],
      "metadata": {
        "id": "kpP8CLr0AFTK"
      },
      "execution_count": null,
      "outputs": []
    },
    {
      "cell_type": "code",
      "source": [
        "### Après avoir crée avec SQLite Studio une table 'wdt_nationality'\n",
        "# la remplir avec une ligne par métier\n",
        "\n",
        "\n",
        "q2 = \"\"\"\n",
        "INSERT INTO wdt_nationality (nationlityUri,nationalityLabel)\n",
        "SELECT DISTINCT TRIM(nationalityUri), LOWER(TRIM(nationalityLabel))\n",
        "FROM wdt_person_nationality;\n",
        "\"\"\"\n",
        "\n",
        "## Attention : la requête est commentée pour éviter\n",
        "# de la réexécuter par mégarde: en effet, cette table\n",
        "# servira au codage des domaines — ne pas l'effacer\n",
        "\n",
        "cur = cn.cursor()\n",
        "#r = cur.execute(q2)\n",
        "#cn.commit()"
      ],
      "metadata": {
        "id": "x_YF1gWIbEzb"
      },
      "execution_count": null,
      "outputs": []
    },
    {
      "cell_type": "code",
      "source": [
        "# la fonction est bien effectuée: la table est remplie avec les uri et les label dans les colonnes respectives"
      ],
      "metadata": {
        "id": "QH00gVB_bl1Z"
      },
      "execution_count": null,
      "outputs": []
    },
    {
      "cell_type": "markdown",
      "source": [
        "## Vérifier l'importation"
      ],
      "metadata": {
        "id": "28t0tWrw2zDF"
      }
    },
    {
      "cell_type": "code",
      "source": [
        "### Le nombre de nationalités différentes: noter qu'il y des répétitions\n",
        "## et inconsistances dans les données de Wikidata\n",
        "\n",
        "q=\"\"\"\n",
        "SELECT COUNT(*)\n",
        "FROM wdt_nationality\n",
        "\"\"\"\n",
        "cur = cn.cursor()\n",
        "r = cur.execute(q).fetchone()\n",
        "print('Nombre de nationalités différentes:' , r[0])"
      ],
      "metadata": {
        "colab": {
          "base_uri": "https://localhost:8080/"
        },
        "id": "lz5VLhZacxiA",
        "outputId": "bf36eaaa-db4d-4ac2-adc2-a8c31628a449"
      },
      "execution_count": null,
      "outputs": [
        {
          "output_type": "stream",
          "name": "stdout",
          "text": [
            "Nombre de nationalités différentes: 164\n"
          ]
        }
      ]
    },
    {
      "cell_type": "code",
      "source": [
        "## Vérifier que le DataFrame rdf contient le même nombre de modalités\n",
        "print(len(rdf))"
      ],
      "metadata": {
        "colab": {
          "base_uri": "https://localhost:8080/"
        },
        "id": "LuJcBAcGc7B_",
        "outputId": "8d34d22b-43e7-49af-a670-d817229818ed"
      },
      "execution_count": null,
      "outputs": [
        {
          "output_type": "stream",
          "name": "stdout",
          "text": [
            "164\n"
          ]
        }
      ]
    },
    {
      "cell_type": "code",
      "source": [
        "### Quelques nationalités\n",
        "# pour mieux explorer parcourir la table dans DBeaver\n",
        "\n",
        "q=\"\"\"\n",
        "SELECT *\n",
        "FROM wdt_nationality\n",
        "LIMIT 5\n",
        "\"\"\"\n",
        "cur = cn.cursor()\n",
        "r = cur.execute(q).fetchall()\n",
        "pprint.pprint(r)"
      ],
      "metadata": {
        "colab": {
          "base_uri": "https://localhost:8080/"
        },
        "id": "DFeU7pzXc9Bp",
        "outputId": "c743a0b8-c74c-4a3d-c156-3e2129ac54ae"
      },
      "execution_count": null,
      "outputs": [
        {
          "output_type": "stream",
          "name": "stdout",
          "text": [
            "[(1, None, 'http://www.wikidata.org/entity/Q142', 'france', 1, 3),\n",
            " (2,\n",
            "  None,\n",
            "  'http://www.wikidata.org/entity/Q62633',\n",
            "  'grand principality of finland',\n",
            "  1,\n",
            "  2),\n",
            " (3, None, 'http://www.wikidata.org/entity/Q34', 'sweden', 1, 2),\n",
            " (4,\n",
            "  None,\n",
            "  'http://www.wikidata.org/entity/Q30',\n",
            "  'united states of america',\n",
            "  4,\n",
            "  None),\n",
            " (5,\n",
            "  None,\n",
            "  'http://www.wikidata.org/entity/Q174193',\n",
            "  'united kingdom of great britain and ireland',\n",
            "  1,\n",
            "  2)]\n"
          ]
        }
      ]
    },
    {
      "cell_type": "markdown",
      "source": [
        "# Vérifier les doublons dans la table wdt_personne"
      ],
      "metadata": {
        "id": "mdwHElelerDa"
      }
    },
    {
      "cell_type": "code",
      "source": [
        "# requête pour chercher les doublons dans la table personne\n",
        "q=\"\"\"\n",
        "SELECT personUri, personLabel, COUNT(*) AS occurrences\n",
        "FROM wdt_personne\n",
        "GROUP BY personUri\n",
        "HAVING COUNT(*) > 1;\n",
        "\"\"\"\n",
        "cur = cn.cursor()\n",
        "r = cur.execute(q).fetchall()\n",
        "pprint.pprint(r)"
      ],
      "metadata": {
        "colab": {
          "base_uri": "https://localhost:8080/"
        },
        "id": "0u-KDAnteqO3",
        "outputId": "9902aa31-893f-4fc3-b9e3-cd77a7e737b7"
      },
      "execution_count": null,
      "outputs": [
        {
          "output_type": "stream",
          "name": "stdout",
          "text": [
            "[('http://www.wikidata.org/entity/Q106151771', 'Madeleine Laferrière', 2),\n",
            " ('http://www.wikidata.org/entity/Q106318387', 'Betty Brader-Ashley', 2),\n",
            " ('http://www.wikidata.org/entity/Q107328394', 'Jenny Meirens', 2),\n",
            " ('http://www.wikidata.org/entity/Q108880375', 'Christian Roth', 2),\n",
            " ('http://www.wikidata.org/entity/Q110344105', 'Mark Eisen', 2),\n",
            " ('http://www.wikidata.org/entity/Q111577', 'Howard Greer', 2),\n",
            " ('http://www.wikidata.org/entity/Q145245', 'Irene Lentz', 2),\n",
            " ('http://www.wikidata.org/entity/Q15956259', 'Sara Forsberg', 2),\n",
            " ('http://www.wikidata.org/entity/Q16221890', 'Hannah Marshall', 2),\n",
            " ('http://www.wikidata.org/entity/Q18209916', 'Olivier Rousteing', 2),\n",
            " ('http://www.wikidata.org/entity/Q20205233', 'Coco Johnsen', 2),\n",
            " ('http://www.wikidata.org/entity/Q2168925', 'Armand Basi', 2),\n",
            " ('http://www.wikidata.org/entity/Q242342', 'Miuccia Prada', 2),\n",
            " ('http://www.wikidata.org/entity/Q33215154', 'Rose Torrente-Mett', 2),\n",
            " ('http://www.wikidata.org/entity/Q3470884', 'Sammy Sheldon', 2),\n",
            " ('http://www.wikidata.org/entity/Q3660564', 'Carolina Marconi', 2),\n",
            " ('http://www.wikidata.org/entity/Q36643891', 'Thea Tewi', 2),\n",
            " ('http://www.wikidata.org/entity/Q4213600', 'Anne Avantie', 2),\n",
            " ('http://www.wikidata.org/entity/Q4251749', 'Vicky Shu', 2),\n",
            " ('http://www.wikidata.org/entity/Q450619', 'Diana Vreeland', 2),\n",
            " ('http://www.wikidata.org/entity/Q4748774', 'Amsale Aberra', 2),\n",
            " ('http://www.wikidata.org/entity/Q5041095', 'Carla Rigg', 2),\n",
            " ('http://www.wikidata.org/entity/Q56460634', 'Hana Podolská', 2),\n",
            " ('http://www.wikidata.org/entity/Q59653305', 'Lucie Porges', 2),\n",
            " ('http://www.wikidata.org/entity/Q6167907', 'Jayne Pierson', 2),\n",
            " ('http://www.wikidata.org/entity/Q6179155', 'Jenny Bannister', 2),\n",
            " ('http://www.wikidata.org/entity/Q62554777', 'Marie Callot Gerber', 2),\n",
            " ('http://www.wikidata.org/entity/Q67605878', 'Sally Milgrim', 2),\n",
            " ('http://www.wikidata.org/entity/Q6795151', 'Max Raab', 2),\n",
            " ('http://www.wikidata.org/entity/Q6832863', 'Michael Moloney', 2),\n",
            " ('http://www.wikidata.org/entity/Q6896661', 'Molly Parnis', 2),\n",
            " ('http://www.wikidata.org/entity/Q6983877', 'NeNe Leakes', 2),\n",
            " ('http://www.wikidata.org/entity/Q724868', 'LisaRaye McCoy-Misick', 2),\n",
            " ('http://www.wikidata.org/entity/Q75274479', 'Miguel Ferreras', 2)]\n"
          ]
        }
      ]
    },
    {
      "cell_type": "code",
      "source": [
        "#requête pour supprimer les doublons de la table wdt_personne\n",
        "\n",
        "q=\"\"\"\n",
        "DELETE FROM wdt_personne\n",
        "WHERE rowid NOT IN (\n",
        "    SELECT MIN(rowid)\n",
        "    FROM wdt_personne\n",
        "    GROUP BY personUri\n",
        ");\n",
        "\"\"\"\n",
        "cur = cn.cursor()\n",
        "r = cur.execute(q).fetchall()\n",
        "pprint.pprint(r)"
      ],
      "metadata": {
        "colab": {
          "base_uri": "https://localhost:8080/"
        },
        "id": "YeoYUVjKgwfi",
        "outputId": "ff0dc93d-5b0b-4b50-ab8b-5f8fa5856404"
      },
      "execution_count": null,
      "outputs": [
        {
          "output_type": "stream",
          "name": "stdout",
          "text": [
            "[]\n"
          ]
        }
      ]
    },
    {
      "cell_type": "code",
      "source": [
        "#requête pour vérifier que les doublons ont bien été supprimés\n",
        "q=\"\"\"\n",
        "SELECT personUri, personLabel, COUNT(*) AS occurrences\n",
        "FROM wdt_personne\n",
        "GROUP BY personUri\n",
        "HAVING COUNT(*) > 1;\n",
        "\"\"\"\n",
        "cur = cn.cursor()\n",
        "r = cur.execute(q).fetchall()\n",
        "pprint.pprint(r)"
      ],
      "metadata": {
        "colab": {
          "base_uri": "https://localhost:8080/"
        },
        "id": "V3P2V9q9h3dR",
        "outputId": "2ffae94e-5cea-4739-a2f8-7687b20a554a"
      },
      "execution_count": null,
      "outputs": [
        {
          "output_type": "stream",
          "name": "stdout",
          "text": [
            "[]\n"
          ]
        }
      ]
    },
    {
      "cell_type": "markdown",
      "source": [
        "#Vérifier les doublons dans la table wdt_person_nationality"
      ],
      "metadata": {
        "id": "JSp_3WbKqFJr"
      }
    },
    {
      "cell_type": "code",
      "source": [
        "# requête pour chercher les doublons dans la table wdt_person_nationality\n",
        "# pour voir combien de personnes ont plus d'une nationalités\n",
        "q=\"\"\"\n",
        "SELECT personUri, COUNT(*) AS occurrences\n",
        "FROM wdt_person_nationality\n",
        "GROUP BY personUri\n",
        "HAVING COUNT(*) > 1;\n",
        "\"\"\"\n",
        "cur = cn.cursor()\n",
        "r = cur.execute(q).fetchall()\n",
        "pprint.pprint(r)"
      ],
      "metadata": {
        "colab": {
          "base_uri": "https://localhost:8080/"
        },
        "id": "MptZZQykqJFM",
        "outputId": "837b0833-9f3d-4fd3-8d9d-a90a4381b486"
      },
      "execution_count": null,
      "outputs": [
        {
          "output_type": "stream",
          "name": "stdout",
          "text": [
            "[('http://www.wikidata.org/entity/Q1051455', 2),\n",
            " ('http://www.wikidata.org/entity/Q10535842', 2),\n",
            " ('http://www.wikidata.org/entity/Q105672918', 2),\n",
            " ('http://www.wikidata.org/entity/Q106196010', 2),\n",
            " ('http://www.wikidata.org/entity/Q106772192', 2),\n",
            " ('http://www.wikidata.org/entity/Q107277233', 2),\n",
            " ('http://www.wikidata.org/entity/Q10857618', 2),\n",
            " ('http://www.wikidata.org/entity/Q10872855', 2),\n",
            " ('http://www.wikidata.org/entity/Q108880375', 2),\n",
            " ('http://www.wikidata.org/entity/Q108920008', 2),\n",
            " ('http://www.wikidata.org/entity/Q109341687', 5),\n",
            " ('http://www.wikidata.org/entity/Q110604850', 2),\n",
            " ('http://www.wikidata.org/entity/Q110670210', 2),\n",
            " ('http://www.wikidata.org/entity/Q110795365', 2),\n",
            " ('http://www.wikidata.org/entity/Q110965126', 2),\n",
            " ('http://www.wikidata.org/entity/Q111026013', 2),\n",
            " ('http://www.wikidata.org/entity/Q111578323', 2),\n",
            " ('http://www.wikidata.org/entity/Q111579862', 2),\n",
            " ('http://www.wikidata.org/entity/Q111588744', 2),\n",
            " ('http://www.wikidata.org/entity/Q112876712', 2),\n",
            " ('http://www.wikidata.org/entity/Q113622050', 2),\n",
            " ('http://www.wikidata.org/entity/Q113677204', 3),\n",
            " ('http://www.wikidata.org/entity/Q113956759', 2),\n",
            " ('http://www.wikidata.org/entity/Q114008687', 2),\n",
            " ('http://www.wikidata.org/entity/Q114041', 2),\n",
            " ('http://www.wikidata.org/entity/Q114276295', 2),\n",
            " ('http://www.wikidata.org/entity/Q114323253', 2),\n",
            " ('http://www.wikidata.org/entity/Q115177353', 2),\n",
            " ('http://www.wikidata.org/entity/Q1154396', 2),\n",
            " ('http://www.wikidata.org/entity/Q115987946', 2),\n",
            " ('http://www.wikidata.org/entity/Q116644390', 3),\n",
            " ('http://www.wikidata.org/entity/Q116973097', 2),\n",
            " ('http://www.wikidata.org/entity/Q11708806', 2),\n",
            " ('http://www.wikidata.org/entity/Q11733336', 2),\n",
            " ('http://www.wikidata.org/entity/Q1174338', 2),\n",
            " ('http://www.wikidata.org/entity/Q119818969', 2),\n",
            " ('http://www.wikidata.org/entity/Q11998', 2),\n",
            " ('http://www.wikidata.org/entity/Q12165460', 4),\n",
            " ('http://www.wikidata.org/entity/Q122801718', 2),\n",
            " ('http://www.wikidata.org/entity/Q122826819', 2),\n",
            " ('http://www.wikidata.org/entity/Q122831397', 2),\n",
            " ('http://www.wikidata.org/entity/Q123945275', 2),\n",
            " ('http://www.wikidata.org/entity/Q124108486', 2),\n",
            " ('http://www.wikidata.org/entity/Q12424751', 2),\n",
            " ('http://www.wikidata.org/entity/Q124341773', 2),\n",
            " ('http://www.wikidata.org/entity/Q124684000', 2),\n",
            " ('http://www.wikidata.org/entity/Q124685257', 2),\n",
            " ('http://www.wikidata.org/entity/Q124986609', 2),\n",
            " ('http://www.wikidata.org/entity/Q124987816', 2),\n",
            " ('http://www.wikidata.org/entity/Q1255520', 3),\n",
            " ('http://www.wikidata.org/entity/Q1362757', 3),\n",
            " ('http://www.wikidata.org/entity/Q15545078', 2),\n",
            " ('http://www.wikidata.org/entity/Q15946531', 3),\n",
            " ('http://www.wikidata.org/entity/Q16012440', 2),\n",
            " ('http://www.wikidata.org/entity/Q16124651', 2),\n",
            " ('http://www.wikidata.org/entity/Q16150361', 2),\n",
            " ('http://www.wikidata.org/entity/Q16213772', 2),\n",
            " ('http://www.wikidata.org/entity/Q16221064', 2),\n",
            " ('http://www.wikidata.org/entity/Q16302167', 2),\n",
            " ('http://www.wikidata.org/entity/Q16708160', 2),\n",
            " ('http://www.wikidata.org/entity/Q16855170', 2),\n",
            " ('http://www.wikidata.org/entity/Q1685654', 3),\n",
            " ('http://www.wikidata.org/entity/Q1702004', 2),\n",
            " ('http://www.wikidata.org/entity/Q1706336', 3),\n",
            " ('http://www.wikidata.org/entity/Q17403688', 2),\n",
            " ('http://www.wikidata.org/entity/Q17430856', 4),\n",
            " ('http://www.wikidata.org/entity/Q17486592', 2),\n",
            " ('http://www.wikidata.org/entity/Q1823236', 2),\n",
            " ('http://www.wikidata.org/entity/Q18356262', 2),\n",
            " ('http://www.wikidata.org/entity/Q18654677', 2),\n",
            " ('http://www.wikidata.org/entity/Q193458', 2),\n",
            " ('http://www.wikidata.org/entity/Q19409502', 2),\n",
            " ('http://www.wikidata.org/entity/Q19668158', 2),\n",
            " ('http://www.wikidata.org/entity/Q19873890', 2),\n",
            " ('http://www.wikidata.org/entity/Q20095791', 2),\n",
            " ('http://www.wikidata.org/entity/Q204019', 2),\n",
            " ('http://www.wikidata.org/entity/Q20679523', 2),\n",
            " ('http://www.wikidata.org/entity/Q21055332', 2),\n",
            " ('http://www.wikidata.org/entity/Q21173890', 3),\n",
            " ('http://www.wikidata.org/entity/Q212659', 2),\n",
            " ('http://www.wikidata.org/entity/Q2133826', 2),\n",
            " ('http://www.wikidata.org/entity/Q2178652', 2),\n",
            " ('http://www.wikidata.org/entity/Q21914464', 2),\n",
            " ('http://www.wikidata.org/entity/Q21995042', 2),\n",
            " ('http://www.wikidata.org/entity/Q22280349', 2),\n",
            " ('http://www.wikidata.org/entity/Q2282017', 2),\n",
            " ('http://www.wikidata.org/entity/Q22931333', 2),\n",
            " ('http://www.wikidata.org/entity/Q2295605', 2),\n",
            " ('http://www.wikidata.org/entity/Q231776', 2),\n",
            " ('http://www.wikidata.org/entity/Q232391', 2),\n",
            " ('http://www.wikidata.org/entity/Q232458', 3),\n",
            " ('http://www.wikidata.org/entity/Q232972', 2),\n",
            " ('http://www.wikidata.org/entity/Q233295', 2),\n",
            " ('http://www.wikidata.org/entity/Q233911', 2),\n",
            " ('http://www.wikidata.org/entity/Q234503', 3),\n",
            " ('http://www.wikidata.org/entity/Q234601', 3),\n",
            " ('http://www.wikidata.org/entity/Q2361741', 2),\n",
            " ('http://www.wikidata.org/entity/Q23656625', 2),\n",
            " ('http://www.wikidata.org/entity/Q23770435', 2),\n",
            " ('http://www.wikidata.org/entity/Q24039480', 2),\n",
            " ('http://www.wikidata.org/entity/Q240527', 2),\n",
            " ('http://www.wikidata.org/entity/Q24066914', 2),\n",
            " ('http://www.wikidata.org/entity/Q2408038', 5),\n",
            " ('http://www.wikidata.org/entity/Q24716419', 2),\n",
            " ('http://www.wikidata.org/entity/Q255184', 2),\n",
            " ('http://www.wikidata.org/entity/Q25890', 2),\n",
            " ('http://www.wikidata.org/entity/Q259594', 2),\n",
            " ('http://www.wikidata.org/entity/Q26213571', 2),\n",
            " ('http://www.wikidata.org/entity/Q26222222', 2),\n",
            " ('http://www.wikidata.org/entity/Q264589', 2),\n",
            " ('http://www.wikidata.org/entity/Q265250', 2),\n",
            " ('http://www.wikidata.org/entity/Q26696690', 2),\n",
            " ('http://www.wikidata.org/entity/Q270356', 2),\n",
            " ('http://www.wikidata.org/entity/Q272438', 2),\n",
            " ('http://www.wikidata.org/entity/Q2750160', 2),\n",
            " ('http://www.wikidata.org/entity/Q27808242', 2),\n",
            " ('http://www.wikidata.org/entity/Q27824278', 2),\n",
            " ('http://www.wikidata.org/entity/Q2792958', 2),\n",
            " ('http://www.wikidata.org/entity/Q28086345', 2),\n",
            " ('http://www.wikidata.org/entity/Q2837795', 2),\n",
            " ('http://www.wikidata.org/entity/Q28475273', 2),\n",
            " ('http://www.wikidata.org/entity/Q28664249', 2),\n",
            " ('http://www.wikidata.org/entity/Q288029', 3),\n",
            " ('http://www.wikidata.org/entity/Q28839217', 2),\n",
            " ('http://www.wikidata.org/entity/Q2930463', 2),\n",
            " ('http://www.wikidata.org/entity/Q29861764', 2),\n",
            " ('http://www.wikidata.org/entity/Q299211', 2),\n",
            " ('http://www.wikidata.org/entity/Q30449', 2),\n",
            " ('http://www.wikidata.org/entity/Q30502147', 2),\n",
            " ('http://www.wikidata.org/entity/Q3051197', 2),\n",
            " ('http://www.wikidata.org/entity/Q313550', 2),\n",
            " ('http://www.wikidata.org/entity/Q3176173', 2),\n",
            " ('http://www.wikidata.org/entity/Q3225394', 2),\n",
            " ('http://www.wikidata.org/entity/Q3230959', 2),\n",
            " ('http://www.wikidata.org/entity/Q32362513', 2),\n",
            " ('http://www.wikidata.org/entity/Q3308555', 2),\n",
            " ('http://www.wikidata.org/entity/Q340230', 2),\n",
            " ('http://www.wikidata.org/entity/Q346350', 2),\n",
            " ('http://www.wikidata.org/entity/Q3553614', 2),\n",
            " ('http://www.wikidata.org/entity/Q3566375', 2),\n",
            " ('http://www.wikidata.org/entity/Q3574603', 2),\n",
            " ('http://www.wikidata.org/entity/Q3639894', 2),\n",
            " ('http://www.wikidata.org/entity/Q36643891', 2),\n",
            " ('http://www.wikidata.org/entity/Q3723021', 2),\n",
            " ('http://www.wikidata.org/entity/Q3724525', 2),\n",
            " ('http://www.wikidata.org/entity/Q3742862', 2),\n",
            " ('http://www.wikidata.org/entity/Q3779629', 2),\n",
            " ('http://www.wikidata.org/entity/Q3807444', 2),\n",
            " ('http://www.wikidata.org/entity/Q3809800', 2),\n",
            " ('http://www.wikidata.org/entity/Q3838717', 2),\n",
            " ('http://www.wikidata.org/entity/Q3848075', 2),\n",
            " ('http://www.wikidata.org/entity/Q3851387', 2),\n",
            " ('http://www.wikidata.org/entity/Q3856928', 2),\n",
            " ('http://www.wikidata.org/entity/Q3857546', 2),\n",
            " ('http://www.wikidata.org/entity/Q3909793', 2),\n",
            " ('http://www.wikidata.org/entity/Q3938548', 2),\n",
            " ('http://www.wikidata.org/entity/Q3941246', 2),\n",
            " ('http://www.wikidata.org/entity/Q395669', 2),\n",
            " ('http://www.wikidata.org/entity/Q3985548', 2),\n",
            " ('http://www.wikidata.org/entity/Q4003399', 2),\n",
            " ('http://www.wikidata.org/entity/Q4017870', 2),\n",
            " ('http://www.wikidata.org/entity/Q4102745', 2),\n",
            " ('http://www.wikidata.org/entity/Q41037724', 2),\n",
            " ('http://www.wikidata.org/entity/Q4104489', 3),\n",
            " ('http://www.wikidata.org/entity/Q4151934', 2),\n",
            " ('http://www.wikidata.org/entity/Q4163807', 2),\n",
            " ('http://www.wikidata.org/entity/Q42293775', 2),\n",
            " ('http://www.wikidata.org/entity/Q4237328', 2),\n",
            " ('http://www.wikidata.org/entity/Q4253457', 2),\n",
            " ('http://www.wikidata.org/entity/Q4275255', 2),\n",
            " ('http://www.wikidata.org/entity/Q4297950', 2),\n",
            " ('http://www.wikidata.org/entity/Q436146', 2),\n",
            " ('http://www.wikidata.org/entity/Q4396161', 2),\n",
            " ('http://www.wikidata.org/entity/Q4405074', 2),\n",
            " ('http://www.wikidata.org/entity/Q449114', 2),\n",
            " ('http://www.wikidata.org/entity/Q4492451', 2),\n",
            " ('http://www.wikidata.org/entity/Q4496836', 2),\n",
            " ('http://www.wikidata.org/entity/Q450619', 2),\n",
            " ('http://www.wikidata.org/entity/Q4506342', 2),\n",
            " ('http://www.wikidata.org/entity/Q4507313', 2),\n",
            " ('http://www.wikidata.org/entity/Q4513699', 2),\n",
            " ('http://www.wikidata.org/entity/Q4538645', 2),\n",
            " ('http://www.wikidata.org/entity/Q454927', 2),\n",
            " ('http://www.wikidata.org/entity/Q458809', 2),\n",
            " ('http://www.wikidata.org/entity/Q464023', 3),\n",
            " ('http://www.wikidata.org/entity/Q466158', 2),\n",
            " ('http://www.wikidata.org/entity/Q466195', 2),\n",
            " ('http://www.wikidata.org/entity/Q467754', 2),\n",
            " ('http://www.wikidata.org/entity/Q47010055', 2),\n",
            " ('http://www.wikidata.org/entity/Q470436', 2),\n",
            " ('http://www.wikidata.org/entity/Q4762904', 2),\n",
            " ('http://www.wikidata.org/entity/Q4783333', 2),\n",
            " ('http://www.wikidata.org/entity/Q48688222', 2),\n",
            " ('http://www.wikidata.org/entity/Q4972273', 2),\n",
            " ('http://www.wikidata.org/entity/Q4997872', 2),\n",
            " ('http://www.wikidata.org/entity/Q50082937', 2),\n",
            " ('http://www.wikidata.org/entity/Q50379407', 2),\n",
            " ('http://www.wikidata.org/entity/Q503927', 2),\n",
            " ('http://www.wikidata.org/entity/Q5041122', 2),\n",
            " ('http://www.wikidata.org/entity/Q5079420', 2),\n",
            " ('http://www.wikidata.org/entity/Q5134173', 2),\n",
            " ('http://www.wikidata.org/entity/Q5346492', 2),\n",
            " ('http://www.wikidata.org/entity/Q538320', 2),\n",
            " ('http://www.wikidata.org/entity/Q541213', 2),\n",
            " ('http://www.wikidata.org/entity/Q5492240', 2),\n",
            " ('http://www.wikidata.org/entity/Q55282006', 2),\n",
            " ('http://www.wikidata.org/entity/Q55282054', 2),\n",
            " ('http://www.wikidata.org/entity/Q55282133', 2),\n",
            " ('http://www.wikidata.org/entity/Q555243', 2),\n",
            " ('http://www.wikidata.org/entity/Q5563512', 2),\n",
            " ('http://www.wikidata.org/entity/Q5566411', 2),\n",
            " ('http://www.wikidata.org/entity/Q55767690', 2),\n",
            " ('http://www.wikidata.org/entity/Q565419', 2),\n",
            " ('http://www.wikidata.org/entity/Q57243957', 2),\n",
            " ('http://www.wikidata.org/entity/Q59192147', 2),\n",
            " ('http://www.wikidata.org/entity/Q60036', 2),\n",
            " ('http://www.wikidata.org/entity/Q60045991', 5),\n",
            " ('http://www.wikidata.org/entity/Q60306', 3),\n",
            " ('http://www.wikidata.org/entity/Q604667', 2),\n",
            " ('http://www.wikidata.org/entity/Q60794178', 2),\n",
            " ('http://www.wikidata.org/entity/Q6098030', 2),\n",
            " ('http://www.wikidata.org/entity/Q61314800', 2),\n",
            " ('http://www.wikidata.org/entity/Q61585953', 3),\n",
            " ('http://www.wikidata.org/entity/Q6159070', 2),\n",
            " ('http://www.wikidata.org/entity/Q6167907', 2),\n",
            " ('http://www.wikidata.org/entity/Q6173293', 2),\n",
            " ('http://www.wikidata.org/entity/Q61927540', 2),\n",
            " ('http://www.wikidata.org/entity/Q62712845', 2),\n",
            " ('http://www.wikidata.org/entity/Q6278293', 2),\n",
            " ('http://www.wikidata.org/entity/Q6303531', 2),\n",
            " ('http://www.wikidata.org/entity/Q63219', 3),\n",
            " ('http://www.wikidata.org/entity/Q63410561', 2),\n",
            " ('http://www.wikidata.org/entity/Q64220973', 2),\n",
            " ('http://www.wikidata.org/entity/Q65126106', 2),\n",
            " ('http://www.wikidata.org/entity/Q6524780', 3),\n",
            " ('http://www.wikidata.org/entity/Q65704423', 2),\n",
            " ('http://www.wikidata.org/entity/Q65953063', 2),\n",
            " ('http://www.wikidata.org/entity/Q66119615', 2),\n",
            " ('http://www.wikidata.org/entity/Q67136955', 2),\n",
            " ('http://www.wikidata.org/entity/Q67163161', 2),\n",
            " ('http://www.wikidata.org/entity/Q67285479', 2),\n",
            " ('http://www.wikidata.org/entity/Q6765610', 2),\n",
            " ('http://www.wikidata.org/entity/Q69066', 2),\n",
            " ('http://www.wikidata.org/entity/Q714126', 2),\n",
            " ('http://www.wikidata.org/entity/Q7244535', 2),\n",
            " ('http://www.wikidata.org/entity/Q73355057', 3),\n",
            " ('http://www.wikidata.org/entity/Q7336835', 3),\n",
            " ('http://www.wikidata.org/entity/Q7586576', 2),\n",
            " ('http://www.wikidata.org/entity/Q7659509', 3),\n",
            " ('http://www.wikidata.org/entity/Q7807185', 2),\n",
            " ('http://www.wikidata.org/entity/Q796694', 2),\n",
            " ('http://www.wikidata.org/entity/Q84593791', 2),\n",
            " ('http://www.wikidata.org/entity/Q87096092', 2),\n",
            " ('http://www.wikidata.org/entity/Q927877', 2),\n",
            " ('http://www.wikidata.org/entity/Q95187939', 2),\n",
            " ('http://www.wikidata.org/entity/Q96407921', 2),\n",
            " ('http://www.wikidata.org/entity/Q981342', 2),\n",
            " ('http://www.wikidata.org/entity/Q984309', 2),\n",
            " ('http://www.wikidata.org/entity/Q99395310', 2)]\n"
          ]
        }
      ]
    },
    {
      "cell_type": "code",
      "source": [
        "# requête pour compter les doublons dans la table wdt_person_nationality\n",
        "# pour voir combien de personnes ont plus d'une nationalités\n",
        "# il y a 259 instances qui ont plusieurs nationalités dans la table wdt_person_nationality\n",
        "q=\"\"\"\n",
        "SELECT COUNT(*) AS total_doublons\n",
        "FROM (\n",
        "    SELECT personUri\n",
        "    FROM wdt_person_nationality\n",
        "    GROUP BY personUri\n",
        "    HAVING COUNT(*) > 1\n",
        ") AS doublons\n",
        "\"\"\"\n",
        "cur = cn.cursor()\n",
        "r = cur.execute(q).fetchall()\n",
        "pprint.pprint(r)"
      ],
      "metadata": {
        "colab": {
          "base_uri": "https://localhost:8080/"
        },
        "id": "i-Kl7tQkrc3Y",
        "outputId": "dc93af8a-212b-404b-e0e6-e94491b7c1ed"
      },
      "execution_count": null,
      "outputs": [
        {
          "output_type": "stream",
          "name": "stdout",
          "text": [
            "[(259,)]\n"
          ]
        }
      ]
    },
    {
      "cell_type": "code",
      "source": [
        "# requête qui compte le nombre d'occurence pour chaque personne\n",
        "q=\"\"\"\n",
        "SELECT occurrences, COUNT(*) AS count_personnes\n",
        "FROM (\n",
        "    SELECT personUri, COUNT(*) AS occurrences\n",
        "    FROM wdt_person_nationality\n",
        "    GROUP BY personUri\n",
        ") AS occurences_par_personne\n",
        "GROUP BY occurrences\n",
        "ORDER BY occurrences\n",
        "\"\"\"\n",
        "cur = cn.cursor()\n",
        "r = cur.execute(q).fetchall()\n",
        "pprint.pprint(r)"
      ],
      "metadata": {
        "colab": {
          "base_uri": "https://localhost:8080/"
        },
        "id": "Bld-Cvcaslnm",
        "outputId": "5aac318a-a329-4d6f-acf4-b53dd07b9e1f"
      },
      "execution_count": null,
      "outputs": [
        {
          "output_type": "stream",
          "name": "stdout",
          "text": [
            "[(1, 2613), (2, 233), (3, 21), (4, 2), (5, 3)]\n"
          ]
        }
      ]
    },
    {
      "cell_type": "code",
      "source": [
        "### Créer un DataFrame à partir du résultat\n",
        "df_r = pd.DataFrame(r)\n",
        "df_r.columns = ['occurences', 'count_occurences']\n",
        "df_r.head()\n"
      ],
      "metadata": {
        "colab": {
          "base_uri": "https://localhost:8080/",
          "height": 206
        },
        "id": "TWKeOC-FthZy",
        "outputId": "e81ba91f-4574-4668-b7d7-7c9099e2775a"
      },
      "execution_count": null,
      "outputs": [
        {
          "output_type": "execute_result",
          "data": {
            "text/plain": [
              "   occurences  count_occurences\n",
              "0           1              2613\n",
              "1           2               233\n",
              "2           3                21\n",
              "3           4                 2\n",
              "4           5                 3"
            ],
            "text/html": [
              "\n",
              "  <div id=\"df-b77d7bc7-8366-416c-b1f0-b16734c2da5e\" class=\"colab-df-container\">\n",
              "    <div>\n",
              "<style scoped>\n",
              "    .dataframe tbody tr th:only-of-type {\n",
              "        vertical-align: middle;\n",
              "    }\n",
              "\n",
              "    .dataframe tbody tr th {\n",
              "        vertical-align: top;\n",
              "    }\n",
              "\n",
              "    .dataframe thead th {\n",
              "        text-align: right;\n",
              "    }\n",
              "</style>\n",
              "<table border=\"1\" class=\"dataframe\">\n",
              "  <thead>\n",
              "    <tr style=\"text-align: right;\">\n",
              "      <th></th>\n",
              "      <th>occurences</th>\n",
              "      <th>count_occurences</th>\n",
              "    </tr>\n",
              "  </thead>\n",
              "  <tbody>\n",
              "    <tr>\n",
              "      <th>0</th>\n",
              "      <td>1</td>\n",
              "      <td>2613</td>\n",
              "    </tr>\n",
              "    <tr>\n",
              "      <th>1</th>\n",
              "      <td>2</td>\n",
              "      <td>233</td>\n",
              "    </tr>\n",
              "    <tr>\n",
              "      <th>2</th>\n",
              "      <td>3</td>\n",
              "      <td>21</td>\n",
              "    </tr>\n",
              "    <tr>\n",
              "      <th>3</th>\n",
              "      <td>4</td>\n",
              "      <td>2</td>\n",
              "    </tr>\n",
              "    <tr>\n",
              "      <th>4</th>\n",
              "      <td>5</td>\n",
              "      <td>3</td>\n",
              "    </tr>\n",
              "  </tbody>\n",
              "</table>\n",
              "</div>\n",
              "    <div class=\"colab-df-buttons\">\n",
              "\n",
              "  <div class=\"colab-df-container\">\n",
              "    <button class=\"colab-df-convert\" onclick=\"convertToInteractive('df-b77d7bc7-8366-416c-b1f0-b16734c2da5e')\"\n",
              "            title=\"Convert this dataframe to an interactive table.\"\n",
              "            style=\"display:none;\">\n",
              "\n",
              "  <svg xmlns=\"http://www.w3.org/2000/svg\" height=\"24px\" viewBox=\"0 -960 960 960\">\n",
              "    <path d=\"M120-120v-720h720v720H120Zm60-500h600v-160H180v160Zm220 220h160v-160H400v160Zm0 220h160v-160H400v160ZM180-400h160v-160H180v160Zm440 0h160v-160H620v160ZM180-180h160v-160H180v160Zm440 0h160v-160H620v160Z\"/>\n",
              "  </svg>\n",
              "    </button>\n",
              "\n",
              "  <style>\n",
              "    .colab-df-container {\n",
              "      display:flex;\n",
              "      gap: 12px;\n",
              "    }\n",
              "\n",
              "    .colab-df-convert {\n",
              "      background-color: #E8F0FE;\n",
              "      border: none;\n",
              "      border-radius: 50%;\n",
              "      cursor: pointer;\n",
              "      display: none;\n",
              "      fill: #1967D2;\n",
              "      height: 32px;\n",
              "      padding: 0 0 0 0;\n",
              "      width: 32px;\n",
              "    }\n",
              "\n",
              "    .colab-df-convert:hover {\n",
              "      background-color: #E2EBFA;\n",
              "      box-shadow: 0px 1px 2px rgba(60, 64, 67, 0.3), 0px 1px 3px 1px rgba(60, 64, 67, 0.15);\n",
              "      fill: #174EA6;\n",
              "    }\n",
              "\n",
              "    .colab-df-buttons div {\n",
              "      margin-bottom: 4px;\n",
              "    }\n",
              "\n",
              "    [theme=dark] .colab-df-convert {\n",
              "      background-color: #3B4455;\n",
              "      fill: #D2E3FC;\n",
              "    }\n",
              "\n",
              "    [theme=dark] .colab-df-convert:hover {\n",
              "      background-color: #434B5C;\n",
              "      box-shadow: 0px 1px 3px 1px rgba(0, 0, 0, 0.15);\n",
              "      filter: drop-shadow(0px 1px 2px rgba(0, 0, 0, 0.3));\n",
              "      fill: #FFFFFF;\n",
              "    }\n",
              "  </style>\n",
              "\n",
              "    <script>\n",
              "      const buttonEl =\n",
              "        document.querySelector('#df-b77d7bc7-8366-416c-b1f0-b16734c2da5e button.colab-df-convert');\n",
              "      buttonEl.style.display =\n",
              "        google.colab.kernel.accessAllowed ? 'block' : 'none';\n",
              "\n",
              "      async function convertToInteractive(key) {\n",
              "        const element = document.querySelector('#df-b77d7bc7-8366-416c-b1f0-b16734c2da5e');\n",
              "        const dataTable =\n",
              "          await google.colab.kernel.invokeFunction('convertToInteractive',\n",
              "                                                    [key], {});\n",
              "        if (!dataTable) return;\n",
              "\n",
              "        const docLinkHtml = 'Like what you see? Visit the ' +\n",
              "          '<a target=\"_blank\" href=https://colab.research.google.com/notebooks/data_table.ipynb>data table notebook</a>'\n",
              "          + ' to learn more about interactive tables.';\n",
              "        element.innerHTML = '';\n",
              "        dataTable['output_type'] = 'display_data';\n",
              "        await google.colab.output.renderOutput(dataTable, element);\n",
              "        const docLink = document.createElement('div');\n",
              "        docLink.innerHTML = docLinkHtml;\n",
              "        element.appendChild(docLink);\n",
              "      }\n",
              "    </script>\n",
              "  </div>\n",
              "\n",
              "\n",
              "<div id=\"df-5b34880d-9dc4-40d7-bb45-425b335520a4\">\n",
              "  <button class=\"colab-df-quickchart\" onclick=\"quickchart('df-5b34880d-9dc4-40d7-bb45-425b335520a4')\"\n",
              "            title=\"Suggest charts\"\n",
              "            style=\"display:none;\">\n",
              "\n",
              "<svg xmlns=\"http://www.w3.org/2000/svg\" height=\"24px\"viewBox=\"0 0 24 24\"\n",
              "     width=\"24px\">\n",
              "    <g>\n",
              "        <path d=\"M19 3H5c-1.1 0-2 .9-2 2v14c0 1.1.9 2 2 2h14c1.1 0 2-.9 2-2V5c0-1.1-.9-2-2-2zM9 17H7v-7h2v7zm4 0h-2V7h2v10zm4 0h-2v-4h2v4z\"/>\n",
              "    </g>\n",
              "</svg>\n",
              "  </button>\n",
              "\n",
              "<style>\n",
              "  .colab-df-quickchart {\n",
              "      --bg-color: #E8F0FE;\n",
              "      --fill-color: #1967D2;\n",
              "      --hover-bg-color: #E2EBFA;\n",
              "      --hover-fill-color: #174EA6;\n",
              "      --disabled-fill-color: #AAA;\n",
              "      --disabled-bg-color: #DDD;\n",
              "  }\n",
              "\n",
              "  [theme=dark] .colab-df-quickchart {\n",
              "      --bg-color: #3B4455;\n",
              "      --fill-color: #D2E3FC;\n",
              "      --hover-bg-color: #434B5C;\n",
              "      --hover-fill-color: #FFFFFF;\n",
              "      --disabled-bg-color: #3B4455;\n",
              "      --disabled-fill-color: #666;\n",
              "  }\n",
              "\n",
              "  .colab-df-quickchart {\n",
              "    background-color: var(--bg-color);\n",
              "    border: none;\n",
              "    border-radius: 50%;\n",
              "    cursor: pointer;\n",
              "    display: none;\n",
              "    fill: var(--fill-color);\n",
              "    height: 32px;\n",
              "    padding: 0;\n",
              "    width: 32px;\n",
              "  }\n",
              "\n",
              "  .colab-df-quickchart:hover {\n",
              "    background-color: var(--hover-bg-color);\n",
              "    box-shadow: 0 1px 2px rgba(60, 64, 67, 0.3), 0 1px 3px 1px rgba(60, 64, 67, 0.15);\n",
              "    fill: var(--button-hover-fill-color);\n",
              "  }\n",
              "\n",
              "  .colab-df-quickchart-complete:disabled,\n",
              "  .colab-df-quickchart-complete:disabled:hover {\n",
              "    background-color: var(--disabled-bg-color);\n",
              "    fill: var(--disabled-fill-color);\n",
              "    box-shadow: none;\n",
              "  }\n",
              "\n",
              "  .colab-df-spinner {\n",
              "    border: 2px solid var(--fill-color);\n",
              "    border-color: transparent;\n",
              "    border-bottom-color: var(--fill-color);\n",
              "    animation:\n",
              "      spin 1s steps(1) infinite;\n",
              "  }\n",
              "\n",
              "  @keyframes spin {\n",
              "    0% {\n",
              "      border-color: transparent;\n",
              "      border-bottom-color: var(--fill-color);\n",
              "      border-left-color: var(--fill-color);\n",
              "    }\n",
              "    20% {\n",
              "      border-color: transparent;\n",
              "      border-left-color: var(--fill-color);\n",
              "      border-top-color: var(--fill-color);\n",
              "    }\n",
              "    30% {\n",
              "      border-color: transparent;\n",
              "      border-left-color: var(--fill-color);\n",
              "      border-top-color: var(--fill-color);\n",
              "      border-right-color: var(--fill-color);\n",
              "    }\n",
              "    40% {\n",
              "      border-color: transparent;\n",
              "      border-right-color: var(--fill-color);\n",
              "      border-top-color: var(--fill-color);\n",
              "    }\n",
              "    60% {\n",
              "      border-color: transparent;\n",
              "      border-right-color: var(--fill-color);\n",
              "    }\n",
              "    80% {\n",
              "      border-color: transparent;\n",
              "      border-right-color: var(--fill-color);\n",
              "      border-bottom-color: var(--fill-color);\n",
              "    }\n",
              "    90% {\n",
              "      border-color: transparent;\n",
              "      border-bottom-color: var(--fill-color);\n",
              "    }\n",
              "  }\n",
              "</style>\n",
              "\n",
              "  <script>\n",
              "    async function quickchart(key) {\n",
              "      const quickchartButtonEl =\n",
              "        document.querySelector('#' + key + ' button');\n",
              "      quickchartButtonEl.disabled = true;  // To prevent multiple clicks.\n",
              "      quickchartButtonEl.classList.add('colab-df-spinner');\n",
              "      try {\n",
              "        const charts = await google.colab.kernel.invokeFunction(\n",
              "            'suggestCharts', [key], {});\n",
              "      } catch (error) {\n",
              "        console.error('Error during call to suggestCharts:', error);\n",
              "      }\n",
              "      quickchartButtonEl.classList.remove('colab-df-spinner');\n",
              "      quickchartButtonEl.classList.add('colab-df-quickchart-complete');\n",
              "    }\n",
              "    (() => {\n",
              "      let quickchartButtonEl =\n",
              "        document.querySelector('#df-5b34880d-9dc4-40d7-bb45-425b335520a4 button');\n",
              "      quickchartButtonEl.style.display =\n",
              "        google.colab.kernel.accessAllowed ? 'block' : 'none';\n",
              "    })();\n",
              "  </script>\n",
              "</div>\n",
              "    </div>\n",
              "  </div>\n"
            ],
            "application/vnd.google.colaboratory.intrinsic+json": {
              "type": "dataframe",
              "variable_name": "df_r",
              "summary": "{\n  \"name\": \"df_r\",\n  \"rows\": 5,\n  \"fields\": [\n    {\n      \"column\": \"occurences\",\n      \"properties\": {\n        \"dtype\": \"number\",\n        \"std\": 1,\n        \"min\": 1,\n        \"max\": 5,\n        \"num_unique_values\": 5,\n        \"samples\": [\n          2,\n          5,\n          3\n        ],\n        \"semantic_type\": \"\",\n        \"description\": \"\"\n      }\n    },\n    {\n      \"column\": \"count_occurences\",\n      \"properties\": {\n        \"dtype\": \"number\",\n        \"std\": 1143,\n        \"min\": 2,\n        \"max\": 2613,\n        \"num_unique_values\": 5,\n        \"samples\": [\n          233,\n          3,\n          21\n        ],\n        \"semantic_type\": \"\",\n        \"description\": \"\"\n      }\n    }\n  ]\n}"
            }
          },
          "metadata": {},
          "execution_count": 35
        }
      ]
    }
  ]
}